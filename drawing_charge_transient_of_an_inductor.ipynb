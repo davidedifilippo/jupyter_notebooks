{
  "nbformat": 4,
  "nbformat_minor": 0,
  "metadata": {
    "colab": {
      "provenance": [],
      "authorship_tag": "ABX9TyOlJvt3xp+6+FrnMmf0MWaq",
      "include_colab_link": true
    },
    "kernelspec": {
      "name": "python3",
      "display_name": "Python 3"
    },
    "language_info": {
      "name": "python"
    }
  },
  "cells": [
    {
      "cell_type": "markdown",
      "metadata": {
        "id": "view-in-github",
        "colab_type": "text"
      },
      "source": [
        "<a href=\"https://colab.research.google.com/github/davidedifilippo/jupyter_notebooks/blob/main/drawing_charge_transient_of_an_inductor.ipynb\" target=\"_parent\"><img src=\"https://colab.research.google.com/assets/colab-badge.svg\" alt=\"Open In Colab\"/></a>"
      ]
    },
    {
      "cell_type": "code",
      "execution_count": null,
      "metadata": {
        "id": "tSUKVgUOHQoI"
      },
      "outputs": [],
      "source": [
        "#importo la libreria di calcolo numerico e la libreria per tracciare \n",
        "#i grafici nel tempo dei segnali \n",
        "\n",
        "import numpy as np \n",
        "import matplotlib.pyplot as plt \n"
      ]
    },
    {
      "cell_type": "markdown",
      "source": [
        "![image.png](data:image/png;base64,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)"
      ],
      "metadata": {
        "id": "BqIs44pdbBFE"
      }
    },
    {
      "cell_type": "code",
      "source": [
        "E = input(\"Tensione di alimentazione: \")\n",
        "R = input(\"inserire il valore di resistenza: \") \n",
        "L = input(\"inserire il valore della capacità del condensatore in milliHenry: \")\n",
        "\n",
        "E = float(E)\n",
        "R = int(R)\n",
        "L = float(L) * pow(10, -3)"
      ],
      "metadata": {
        "id": "xRyLH-Dh8y4J"
      },
      "execution_count": null,
      "outputs": []
    },
    {
      "cell_type": "markdown",
      "source": [
        "Calcoliamo la costante di tempo di carica del circuito:\n",
        "\n",
        "$$\\tau  = \\frac{L}{R} $$\n",
        "\n",
        "ossia il tempo necessario alla corrente nell'induttore per raggiungere il 63% del valore finale."
      ],
      "metadata": {
        "id": "kY5mcr-A9yS7"
      }
    },
    {
      "cell_type": "code",
      "source": [
        "tau = L/R\n",
        "print(\"Costante di tempo di carica:\", np.round(tau*1000, 4), \"millisecondi\")"
      ],
      "metadata": {
        "id": "g4VtlIVE-Jlz"
      },
      "execution_count": null,
      "outputs": []
    },
    {
      "cell_type": "markdown",
      "source": [
        "Calcoliamo il tempo di carica del circuito:\n",
        "\n",
        "$$T_{carica}  = 5*\\tau $$ "
      ],
      "metadata": {
        "id": "OgJN_88H-S18"
      }
    },
    {
      "cell_type": "code",
      "source": [
        "Tc = 5*tau\n",
        "print(\"Tempo di carica dell'induttore:\", np.round(Tc, 2) , \"millisecondi\")"
      ],
      "metadata": {
        "id": "vl9RaOlG-c2i"
      },
      "execution_count": null,
      "outputs": []
    },
    {
      "cell_type": "markdown",
      "source": [
        "Calcoliamo come aumenta **la corrente** nell'induttore al passare del tempo."
      ],
      "metadata": {
        "id": "UUtvPnLL-iYk"
      }
    },
    {
      "cell_type": "code",
      "source": [
        "t = np.linspace(0, Tc, 201)\n"
      ],
      "metadata": {
        "id": "qSMzUxJM-vQy"
      },
      "execution_count": null,
      "outputs": []
    },
    {
      "cell_type": "code",
      "source": [
        "iL = (E/R) *(1-np.exp(-t/tau))"
      ],
      "metadata": {
        "id": "llJ6DU4EC7E1"
      },
      "execution_count": null,
      "outputs": []
    },
    {
      "cell_type": "code",
      "source": [
        "plt.title('Andamento della corrente di carica nell\\'induttore')\n",
        "plt.plot(t/1000, iL, 'b')\n",
        "plt.xlabel('Time [s]')\n",
        "plt.ylabel('Corrente [A]')\n",
        "plt.grid()\n",
        "plt.show()"
      ],
      "metadata": {
        "id": "9YA2_MWZDOSH"
      },
      "execution_count": null,
      "outputs": []
    },
    {
      "cell_type": "code",
      "source": [
        "for i in range(0,201, 10):\n",
        "  print(\"\\t tempo [s]\", np.round(t[i]/1000, 2), \" \\t corrente [Ampere]\", np.round(iL[i], 4))"
      ],
      "metadata": {
        "id": "femqiPcUD7uh"
      },
      "execution_count": null,
      "outputs": []
    },
    {
      "cell_type": "code",
      "source": [
        "vL = E *np.exp(-t/tau)"
      ],
      "metadata": {
        "id": "eu9bT37rg655"
      },
      "execution_count": null,
      "outputs": []
    },
    {
      "cell_type": "code",
      "source": [
        "plt.title('Andamento della tensione sull\\'induttore durante la carica')\n",
        "plt.plot(t/1000, vL, 'b')\n",
        "plt.xlabel('Time [s]')\n",
        "plt.ylabel('Corrente [A]')\n",
        "plt.grid()\n",
        "plt.show()"
      ],
      "metadata": {
        "id": "dXPIUgovhSwr"
      },
      "execution_count": null,
      "outputs": []
    },
    {
      "cell_type": "code",
      "source": [
        "for i in range(0,201, 10):\n",
        "  print(\"\\t tempo [s]\", np.round(t[i]/1000, 2), \" \\t tensione [Volt]\", np.round(vL[i], 4))"
      ],
      "metadata": {
        "id": "Fdvhlcrbhik2"
      },
      "execution_count": null,
      "outputs": []
    },
    {
      "cell_type": "markdown",
      "source": [
        "Corrente di estinzione"
      ],
      "metadata": {
        "id": "I_FotTOrgj05"
      }
    },
    {
      "cell_type": "code",
      "source": [
        "iL = (E/R) *np.exp(-t/tau)"
      ],
      "metadata": {
        "id": "a0Lwg058gULj"
      },
      "execution_count": null,
      "outputs": []
    },
    {
      "cell_type": "code",
      "source": [
        "plt.title('Andamento della corrente di scarica nell\\'induttore')\n",
        "plt.plot(t/1000, iL, 'b')\n",
        "plt.xlabel('Time [s]')\n",
        "plt.ylabel('Corrente [A]')\n",
        "plt.grid()\n",
        "plt.show()"
      ],
      "metadata": {
        "id": "wCRS8fSfgtbt"
      },
      "execution_count": null,
      "outputs": []
    },
    {
      "cell_type": "markdown",
      "source": [
        "**Andamento della tensione sull'induttore durante la scarica**"
      ],
      "metadata": {
        "id": "xgRKuWhKhxhX"
      }
    },
    {
      "cell_type": "code",
      "source": [
        "vL = -E *np.exp(-t/tau)"
      ],
      "metadata": {
        "id": "Qia5FgfwhzCT"
      },
      "execution_count": null,
      "outputs": []
    },
    {
      "cell_type": "markdown",
      "source": [
        "Se spengo l'alimentazione **la tensione sull'induttore si inverte**, mentre **la corrente mantiene il verso iniziale**"
      ],
      "metadata": {
        "id": "hzGP4RK5kCnC"
      }
    },
    {
      "cell_type": "code",
      "source": [
        "plt.title('Andamento della tensione sull\\'induttore durante la scarica')\n",
        "plt.plot(t/1000, vL, 'b')\n",
        "plt.xlabel('Time [s]')\n",
        "plt.ylabel('Corrente [A]')\n",
        "plt.grid()\n",
        "plt.show()"
      ],
      "metadata": {
        "id": "N3ueohEbiRbU"
      },
      "execution_count": null,
      "outputs": []
    }
  ]
}