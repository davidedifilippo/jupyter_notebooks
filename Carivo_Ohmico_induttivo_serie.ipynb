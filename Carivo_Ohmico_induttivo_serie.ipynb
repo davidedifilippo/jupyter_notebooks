{
  "nbformat": 4,
  "nbformat_minor": 0,
  "metadata": {
    "colab": {
      "provenance": [],
      "authorship_tag": "ABX9TyOrnohsFmIHDgyvYVm+OIWg",
      "include_colab_link": true
    },
    "kernelspec": {
      "name": "python3",
      "display_name": "Python 3"
    },
    "language_info": {
      "name": "python"
    }
  },
  "cells": [
    {
      "cell_type": "markdown",
      "metadata": {
        "id": "view-in-github",
        "colab_type": "text"
      },
      "source": [
        "<a href=\"https://colab.research.google.com/github/davidedifilippo/jupyter_notebooks/blob/main/Carivo_Ohmico_induttivo.ipynb\" target=\"_parent\"><img src=\"https://colab.research.google.com/assets/colab-badge.svg\" alt=\"Open In Colab\"/></a>"
      ]
    },
    {
      "cell_type": "code",
      "execution_count": null,
      "metadata": {
        "id": "_ecU8lqqOECQ"
      },
      "outputs": [],
      "source": [
        "#libreria per le elaborazioni numeriche\n",
        "\n",
        "import numpy as np\n",
        "\n",
        "#libreria per il disegno dei fasori sul piano complesso\n",
        "\n",
        "import matplotlib.pyplot as plt\n",
        "\n"
      ]
    },
    {
      "cell_type": "markdown",
      "source": [
        "\n",
        "Alimentazione sinusoidale:\n",
        "\n",
        "*   frequenza = 2756 Hz\n",
        "*   Vg_max = 200V  \n",
        "*   Vg_phase = 60\n",
        "\n",
        "Carico serie:\n",
        "\n",
        "*   R= 100 Ohm\n",
        "*   L = 10 milliHenry \n",
        "\n",
        "\n",
        "\n",
        "\n",
        "\n",
        "\n"
      ],
      "metadata": {
        "id": "6IYaOo4IOtjt"
      }
    },
    {
      "cell_type": "code",
      "source": [
        "f = input(\"Inserire la frequenza di lavoro:\")\n",
        "f = float(f)\n",
        "\n",
        "VG_max = input(\"Inserire la tensione di alimentazione:\")\n",
        "VG_max = float(VG_max)\n",
        "\n",
        "VG_ph = input(\"Inserire la fase del generatore:\")\n",
        "VG_ph = float(VG_ph)\n",
        "\n",
        "R = input(\"Inserire la resistenza:\")\n",
        "R = float(R)\n",
        "\n",
        "L = input(\"Inserire l'induttanza della bobina in millesimi di Henry:\")\n",
        "L = float(L) * pow(10,-3)\n",
        "\n",
        "VG_ph = (VG_ph/180)*np.pi\n",
        "\n",
        "VG = VG_max*(np.cos(VG_ph)+np.sin(VG_ph)*1j)\n",
        "\n",
        "print(\"\\nTensione di alimentazione: \", np.round(VG, 2))\n",
        "\n",
        "# Coordinate polari (M, phi)\n",
        "\n",
        "print (\"modulo VG:\",  abs(VG))\n",
        "print (\"Fase di VG:\",  (np.angle(VG)/np.pi) * 180)"
      ],
      "metadata": {
        "id": "dp67Qq0OOpxe"
      },
      "execution_count": null,
      "outputs": []
    },
    {
      "cell_type": "markdown",
      "source": [
        "Calcoliamo l'impedenza resistiva $ZR$:"
      ],
      "metadata": {
        "id": "6vPHIjs2RP2s"
      }
    },
    {
      "cell_type": "code",
      "source": [
        "#Impedenza resistiva\n",
        "\n",
        "ZR = R\n",
        "\n",
        "print(\"ZR=\", np.round(ZR,2), \"Ohm\")\n"
      ],
      "metadata": {
        "id": "dghDaT6vRWt1"
      },
      "execution_count": null,
      "outputs": []
    },
    {
      "cell_type": "markdown",
      "source": [
        "la reattanza induttiva $XL$:"
      ],
      "metadata": {
        "id": "fb8yzyzcRiDx"
      }
    },
    {
      "cell_type": "code",
      "source": [
        "# Reattanza induttiva:\n",
        "\n",
        "XL = 2*np.pi*f*L\n",
        "\n",
        "print(\"XL=\", np.round(XL,2), \"Ohm\")"
      ],
      "metadata": {
        "id": "mrKYkbz0Rn7E"
      },
      "execution_count": null,
      "outputs": []
    },
    {
      "cell_type": "markdown",
      "source": [
        "l'impedenza induttiva $ZL$:"
      ],
      "metadata": {
        "id": "3lzrMtp2Ro7C"
      }
    },
    {
      "cell_type": "code",
      "source": [
        "#Impedenza induttiva:\n",
        "\n",
        "ZL = 1j*XL\n",
        "print(\"ZL=\", np.round(ZL,2), \"Ohm\")\n"
      ],
      "metadata": {
        "id": "iiQe9aM7R2We"
      },
      "execution_count": null,
      "outputs": []
    },
    {
      "cell_type": "markdown",
      "source": [
        "Poi calcoliamo l'impedenza serie vista dal generatore $Zserie = ZR+ZL$ :"
      ],
      "metadata": {
        "id": "s-90EBtqSVdB"
      }
    },
    {
      "cell_type": "code",
      "source": [
        "\n",
        "#Impedenza totale vista dal generatore\n",
        "\n",
        "Zserie = ZR + ZL\n",
        "print(\"Zserie=\", np.round(Zserie,2), \"Ohm\")"
      ],
      "metadata": {
        "id": "TfJqUsePSUUU"
      },
      "execution_count": null,
      "outputs": []
    },
    {
      "cell_type": "markdown",
      "source": [
        "Si calcola la corrente utilizzando la legge di Ohm generalizzata:"
      ],
      "metadata": {
        "id": "WmdlYn4-Snnu"
      }
    },
    {
      "cell_type": "code",
      "source": [
        "#corrente assorbita dal carico serie:\n",
        "\n",
        "IL= VG / Zserie\n",
        "\n",
        "print(\"IL=\", np.round(IL,2), \"Ampere\")"
      ],
      "metadata": {
        "id": "PKugPntDSod4"
      },
      "execution_count": null,
      "outputs": []
    },
    {
      "cell_type": "markdown",
      "source": [
        "Calcoliamo la tensione sulla resistenza:"
      ],
      "metadata": {
        "id": "RZrJ0AgYSwCF"
      }
    },
    {
      "cell_type": "code",
      "source": [
        "#Tensione sul componente resistivo:\n",
        "\n",
        "VR = R*IL\n",
        "\n",
        "print(\"VR=\", np.round(VR,1), \"Volt\")"
      ],
      "metadata": {
        "id": "MA4UZZUvSwjb"
      },
      "execution_count": null,
      "outputs": []
    },
    {
      "cell_type": "markdown",
      "source": [
        "Calcoliamo la tensione sull'induttore:"
      ],
      "metadata": {
        "id": "BzGnuqGTTBS6"
      }
    },
    {
      "cell_type": "code",
      "source": [
        "#Tensione sul componenti induttivo:\n",
        "\n",
        "VL = ZL*IL\n",
        "\n",
        "print(\"VL=\", np.round(VL,1), \"Volt\")\n",
        "print(\"Modulo\", np.round(abs(VL),2), \"Fase\", np.round(np.angle(VL)/np.pi * 180,2))"
      ],
      "metadata": {
        "id": "GC_1lZR6TTxl"
      },
      "execution_count": null,
      "outputs": []
    },
    {
      "cell_type": "markdown",
      "source": [
        "Disegnamo i fasori sul piano complesso:"
      ],
      "metadata": {
        "id": "hGP0JgOjTeil"
      }
    },
    {
      "cell_type": "code",
      "source": [
        "# Plotting Phasor Diagram\n",
        "\n",
        "figure = plt.subplots(figsize=(11, 6))\n",
        "axe = plt.subplot(121)\n",
        "\n",
        "plt.title('V Phasor Diagram')\n",
        "axe.quiver(0, 0, np.array((np.real(VG))), np.array((np.imag(VG))), units='xy', scale=1, color='blue')\n",
        "axe.quiver(0, 0, np.array((np.real(VR))), np.array((np.imag(VR))), units='xy', scale=1, color='green')\n",
        "axe.quiver(0, 0, np.array((np.real(VL))), np.array((np.imag(VL))), units='xy', scale=1, color='orange')\n",
        "\n",
        "\n",
        "plt.grid()\n",
        "axe.set_aspect('equal')\n",
        "axe.spines['left'].set_position('zero')\n",
        "axe.spines['right'].set_color('none')\n",
        "axe.spines['bottom'].set_position('zero')\n",
        "axe.spines['top'].set_color('none')\n",
        "\n",
        "limit = max(abs(VG), abs(VR), abs(VL))\n",
        "plt.xlim(-limit,limit)\n",
        "plt.ylim(-limit,limit)\n",
        "plt.legend((\"VG\", \"VR\", \"VL\"))\n",
        "\n"
      ],
      "metadata": {
        "id": "WdWn1MEyTgN5"
      },
      "execution_count": null,
      "outputs": []
    }
  ]
}
