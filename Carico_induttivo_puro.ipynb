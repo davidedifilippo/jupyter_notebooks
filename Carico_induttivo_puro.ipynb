{
  "nbformat": 4,
  "nbformat_minor": 0,
  "metadata": {
    "colab": {
      "provenance": [],
      "authorship_tag": "ABX9TyOp+QluP9pPEreEL0h7Lk2X",
      "include_colab_link": true
    },
    "kernelspec": {
      "name": "python3",
      "display_name": "Python 3"
    },
    "language_info": {
      "name": "python"
    }
  },
  "cells": [
    {
      "cell_type": "markdown",
      "metadata": {
        "id": "view-in-github",
        "colab_type": "text"
      },
      "source": [
        "<a href=\"https://colab.research.google.com/github/davidedifilippo/jupyter_notebooks/blob/main/Carico_induttivo_puro.ipynb\" target=\"_parent\"><img src=\"https://colab.research.google.com/assets/colab-badge.svg\" alt=\"Open In Colab\"/></a>"
      ]
    },
    {
      "cell_type": "markdown",
      "source": [
        "### Calcolo impedenza induttiva"
      ],
      "metadata": {
        "id": "yuZNbaiS961j"
      }
    },
    {
      "cell_type": "code",
      "source": [
        "import numpy as np"
      ],
      "metadata": {
        "id": "qCPzySG3-LWU"
      },
      "execution_count": null,
      "outputs": []
    },
    {
      "cell_type": "code",
      "source": [
        "f = 1591.6 #frequenza di lavoro "
      ],
      "metadata": {
        "id": "XCtLWv-l_hgu"
      },
      "execution_count": null,
      "outputs": []
    },
    {
      "cell_type": "code",
      "source": [
        "L = 10* pow(10, -3) # induttanza in milliHenry"
      ],
      "metadata": {
        "id": "caO3lJ6H_qdT"
      },
      "execution_count": null,
      "outputs": []
    },
    {
      "cell_type": "markdown",
      "source": [
        "\n",
        "Reattanza induttiva:\n",
        "\n",
        "$$ X_{L} = 2 \\pi f L $$\n"
      ],
      "metadata": {
        "id": "28TwSZQkh92c"
      }
    },
    {
      "cell_type": "code",
      "source": [
        "# Reattanza induttiva\n",
        "\n",
        "XL = 2*np.pi*f*L\n",
        "print(\"Xc=\", np.round(XL,2), \"Ohm\")"
      ],
      "metadata": {
        "id": "U9iFN4Ef_yHq"
      },
      "execution_count": null,
      "outputs": []
    },
    {
      "cell_type": "markdown",
      "source": [
        "Impedenza induttiva:\n",
        "\n",
        "$$ Z_{L} = jX_{L} $$\n"
      ],
      "metadata": {
        "id": "wwpRlYaZpYVB"
      }
    },
    {
      "cell_type": "code",
      "source": [
        "#Impedenza capacitiva\n",
        "\n",
        "ZL = 1j*XL\n",
        "print(\"ZL=\", np.round(ZL,2), \"Ohm\")\n",
        "\n"
      ],
      "metadata": {
        "id": "3MH-q5yZ_2rU"
      },
      "execution_count": null,
      "outputs": []
    },
    {
      "cell_type": "code",
      "source": [
        "#Corrente di alimentazione \n",
        "IL = 1"
      ],
      "metadata": {
        "id": "aQbQhjnTAILX"
      },
      "execution_count": null,
      "outputs": []
    },
    {
      "cell_type": "code",
      "source": [
        "#corrente nell'elemento \n",
        "\n",
        "VL = ZL*IL\n",
        "\n",
        "print(\"VL=\", np.round(VL,2), \"Volt\")"
      ],
      "metadata": {
        "id": "TMvBsogKASsi"
      },
      "execution_count": null,
      "outputs": []
    }
  ]
}