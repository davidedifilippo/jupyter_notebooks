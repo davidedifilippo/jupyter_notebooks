{
  "nbformat": 4,
  "nbformat_minor": 0,
  "metadata": {
    "colab": {
      "provenance": [],
      "authorship_tag": "ABX9TyP+tZ28EvuqKbDPoGClwucQ",
      "include_colab_link": true
    },
    "kernelspec": {
      "name": "python3",
      "display_name": "Python 3"
    },
    "language_info": {
      "name": "python"
    }
  },
  "cells": [
    {
      "cell_type": "markdown",
      "metadata": {
        "id": "view-in-github",
        "colab_type": "text"
      },
      "source": [
        "<a href=\"https://colab.research.google.com/github/davidedifilippo/jupyter_notebooks/blob/main/Carico_capacitivo_puro.ipynb\" target=\"_parent\"><img src=\"https://colab.research.google.com/assets/colab-badge.svg\" alt=\"Open In Colab\"/></a>"
      ]
    },
    {
      "cell_type": "markdown",
      "source": [
        "### Calcolo impedenza capacitiva"
      ],
      "metadata": {
        "id": "yuZNbaiS961j"
      }
    },
    {
      "cell_type": "code",
      "source": [
        "import numpy as np"
      ],
      "metadata": {
        "id": "qCPzySG3-LWU"
      },
      "execution_count": null,
      "outputs": []
    },
    {
      "cell_type": "markdown",
      "source": [
        "\n",
        "---| |---\n"
      ],
      "metadata": {
        "id": "8bqvahiahwp7"
      }
    },
    {
      "cell_type": "code",
      "source": [
        "f = 1591 #frequenza di lavoro "
      ],
      "metadata": {
        "id": "XCtLWv-l_hgu"
      },
      "execution_count": null,
      "outputs": []
    },
    {
      "cell_type": "code",
      "source": [
        "C = 50* pow(10, -6) # capacità 10 microfarad"
      ],
      "metadata": {
        "id": "caO3lJ6H_qdT"
      },
      "execution_count": null,
      "outputs": []
    },
    {
      "cell_type": "markdown",
      "source": [
        "Reattanza capacitiva:\n",
        "\n",
        "$$ X_{c} = \\frac{1}{2 \\pi f C} $$\n"
      ],
      "metadata": {
        "id": "28TwSZQkh92c"
      }
    },
    {
      "cell_type": "code",
      "source": [
        "# Reattanza capacitiva\n",
        "\n",
        "Xc = 1/(2*np.pi*f*C)\n",
        "\n",
        "print(\"Xc=\", np.round(Xc,2), \"Ohm\")"
      ],
      "metadata": {
        "id": "U9iFN4Ef_yHq"
      },
      "execution_count": null,
      "outputs": []
    },
    {
      "cell_type": "markdown",
      "source": [
        "Impedenza capacitiva:\n",
        "\n",
        "$$ Z_{c} = -jX_{c} $$\n"
      ],
      "metadata": {
        "id": "H1ahEgg7iiWU"
      }
    },
    {
      "cell_type": "code",
      "source": [
        "#Impedenza capacitiva\n",
        "\n",
        "Zc = -1j*Xc\n",
        "print(\"Zc=\", np.round(Zc,2), \"Ohm\")\n",
        "\n"
      ],
      "metadata": {
        "id": "3MH-q5yZ_2rU"
      },
      "execution_count": null,
      "outputs": []
    },
    {
      "cell_type": "code",
      "source": [
        "#Corrente di alimentazione \n",
        "Ic = 1"
      ],
      "metadata": {
        "id": "aQbQhjnTAILX"
      },
      "execution_count": null,
      "outputs": []
    },
    {
      "cell_type": "code",
      "source": [
        "# Tensione di alimentazione\n",
        "\n",
        "Vc = Zc*Ic\n",
        "\n",
        "print(\"Vc=\", np.round(Vc,2), \"Volt\")"
      ],
      "metadata": {
        "id": "TMvBsogKASsi"
      },
      "execution_count": null,
      "outputs": []
    }
  ]
}