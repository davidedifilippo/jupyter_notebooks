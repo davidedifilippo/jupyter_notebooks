{
  "nbformat": 4,
  "nbformat_minor": 0,
  "metadata": {
    "colab": {
      "provenance": [],
      "authorship_tag": "ABX9TyPdhrrzNHIT4II6nWpMr+b9",
      "include_colab_link": true
    },
    "kernelspec": {
      "name": "python3",
      "display_name": "Python 3"
    },
    "language_info": {
      "name": "python"
    }
  },
  "cells": [
    {
      "cell_type": "markdown",
      "metadata": {
        "id": "view-in-github",
        "colab_type": "text"
      },
      "source": [
        "<a href=\"https://colab.research.google.com/github/davidedifilippo/jupyter_notebooks/blob/main/drawing_charge_transient_of_a_capacitor.ipynb\" target=\"_parent\"><img src=\"https://colab.research.google.com/assets/colab-badge.svg\" alt=\"Open In Colab\"/></a>"
      ]
    },
    {
      "cell_type": "code",
      "execution_count": 3,
      "metadata": {
        "id": "tSUKVgUOHQoI"
      },
      "outputs": [],
      "source": [
        "#importo la libreria di calcolo numerico e la libreria per tracciare \n",
        "#i grafici nel tempo dei segnali \n",
        "\n",
        "import numpy as np \n",
        "import matplotlib.pyplot as plt \n"
      ]
    },
    {
      "cell_type": "code",
      "source": [
        "V = input(\"Tensione di alimentazione: \")\n",
        "R = input(\"inserire il valore di resistenza: \") \n",
        "C = input(\"inserire il valore della capacità del condensatore in microfarad: \")\n",
        "\n",
        "V = float(V)\n",
        "R = int(R)\n",
        "C = float(C) * pow(10, -6)\n",
        "\n",
        "1"
      ],
      "metadata": {
        "colab": {
          "base_uri": "https://localhost:8080/"
        },
        "id": "xRyLH-Dh8y4J",
        "outputId": "32632f77-b5ee-40c7-c259-811ffca83ff0"
      },
      "execution_count": 11,
      "outputs": [
        {
          "name": "stdout",
          "output_type": "stream",
          "text": [
            "Tensione di alimentazione: 10\n",
            "inserire il valore di resistenza: 1000\n",
            "inserire il valore della capacità del condensatore in microfarad: 10\n"
          ]
        },
        {
          "output_type": "execute_result",
          "data": {
            "text/plain": [
              "1"
            ]
          },
          "metadata": {},
          "execution_count": 11
        }
      ]
    },
    {
      "cell_type": "markdown",
      "source": [
        "Calcoliamo la costante di tempo di carica del circuito:\n",
        "\n",
        "$$\\tau  = R*C $$\n",
        "\n",
        "ossia il tempo necessario alla tensione sul condensatore per raggiungere il 63% del valore finale."
      ],
      "metadata": {
        "id": "kY5mcr-A9yS7"
      }
    },
    {
      "cell_type": "code",
      "source": [
        "tau = R*C\n",
        "print(\"Costante di tempo di carica:\", np.round(tau*1000, 2), \"millisecondi\")"
      ],
      "metadata": {
        "colab": {
          "base_uri": "https://localhost:8080/"
        },
        "id": "g4VtlIVE-Jlz",
        "outputId": "dd87ff12-f359-44a5-d6e1-152d7a78e00b"
      },
      "execution_count": 39,
      "outputs": [
        {
          "output_type": "stream",
          "name": "stdout",
          "text": [
            "Costante di tempo di carica: 10.0 millisecondi\n"
          ]
        }
      ]
    },
    {
      "cell_type": "markdown",
      "source": [
        "Calcoliamo la costante di tempo di carica del circuito:\n",
        "\n",
        "$$T_{carica}  = 5*\\tau $$ "
      ],
      "metadata": {
        "id": "OgJN_88H-S18"
      }
    },
    {
      "cell_type": "code",
      "source": [
        "Tc = 5*tau\n",
        "print(\"Tempo di carica del condensatore:\", np.round(Tc*1000, 2) , \"millisecondi\")"
      ],
      "metadata": {
        "colab": {
          "base_uri": "https://localhost:8080/"
        },
        "id": "vl9RaOlG-c2i",
        "outputId": "e77a5d70-e69a-4bd0-dcf4-7bfaa7d61d9f"
      },
      "execution_count": 40,
      "outputs": [
        {
          "output_type": "stream",
          "name": "stdout",
          "text": [
            "Tempo di carica del condensatore: 50.0 millisecondi\n"
          ]
        }
      ]
    },
    {
      "cell_type": "markdown",
      "source": [
        "Calcoliamo come aumenta la differenza di potenziale sul condensatore al passare del tempo."
      ],
      "metadata": {
        "id": "UUtvPnLL-iYk"
      }
    },
    {
      "cell_type": "code",
      "source": [
        "t = np.linspace(0, Tc*1000, 200)\n"
      ],
      "metadata": {
        "id": "qSMzUxJM-vQy"
      },
      "execution_count": 43,
      "outputs": []
    },
    {
      "cell_type": "code",
      "source": [
        "vc = V *(1-np.exp(-t/tau))"
      ],
      "metadata": {
        "id": "llJ6DU4EC7E1"
      },
      "execution_count": 37,
      "outputs": []
    },
    {
      "cell_type": "code",
      "source": [
        "plt.title('Andamento della tensione di carica sul condensatore')\n",
        "plt.plot(t, vc, 'b')\n",
        "plt.xlabel('Time [ms]')\n",
        "plt.ylabel('Voltage [V]')\n",
        "plt.grid()\n",
        "plt.show()"
      ],
      "metadata": {
        "colab": {
          "base_uri": "https://localhost:8080/",
          "height": 295
        },
        "id": "9YA2_MWZDOSH",
        "outputId": "2b006297-138c-430d-a0c5-314fe451d1ed"
      },
      "execution_count": 47,
      "outputs": [
        {
          "output_type": "display_data",
          "data": {
            "text/plain": [
              "<Figure size 432x288 with 1 Axes>"
            ],
            "image/png": "[encoded data removed]"
          },
          "metadata": {
            "needs_background": "light"
          }
        }
      ]
    },
    {
      "cell_type": "code",
      "source": [
        "for i in range(200):\n",
        "  print(\"\\t tempo [ms]\", np.round(t[i], 2), \" \\t tensione [Volt]\", vc[i])"
      ],
      "metadata": {
        "colab": {
          "base_uri": "https://localhost:8080/"
        },
        "id": "femqiPcUD7uh",
        "outputId": "f6988a07-c922-4ea4-8393-fb36a3f5322d"
      },
      "execution_count": 51,
      "outputs": [
        {
          "output_type": "stream",
          "name": "stdout",
          "text": [
            "\t tempo [ms] 0.0  \t tensione [Volt] 0.0\n",
            "\t tempo [ms] 0.25  \t tensione [Volt] 0.2481260664646734\n",
            "\t tempo [ms] 0.5  \t tensione [Volt] 0.49009547844342416\n",
            "\t tempo [ms] 0.75  \t tensione [Volt] 0.7260609985822686\n",
            "\t tempo [ms] 1.01  \t tensione [Volt] 0.9561715990877795\n",
            "\t tempo [ms] 1.26  \t tensione [Volt] 1.1805725557777647\n",
            "\t tempo [ms] 1.51  \t tensione [Volt] 1.3994055397983096\n",
            "\t tempo [ms] 1.76  \t tensione [Volt] 1.612808707065081\n",
            "\t tempo [ms] 2.01  \t tensione [Volt] 1.8209167854853514\n",
            "\t tempo [ms] 2.26  \t tensione [Volt] 2.0238611600158274\n",
            "\t tempo [ms] 2.51  \t tensione [Volt] 2.2217699556099646\n",
            "\t tempo [ms] 2.76  \t tensione [Volt] 2.414768118107149\n",
            "\t tempo [ms] 3.02  \t tensione [Volt] 2.6029774931147998\n",
            "\t tempo [ms] 3.27  \t tensione [Volt] 2.786516902933208\n",
            "\t tempo [ms] 3.52  \t tensione [Volt] 2.9655022215716675\n",
            "\t tempo [ms] 3.77  \t tensione [Volt] 3.1400464479032584\n",
            "\t tempo [ms] 4.02  \t tensione [Volt] 3.3102597770044717\n",
            "\t tempo [ms] 4.27  \t tensione [Volt] 3.4762496697247105\n",
            "\t tempo [ms] 4.52  \t tensione [Volt] 3.638120920529593\n",
            "\t tempo [ms] 4.77  \t tensione [Volt] 3.7959757236608818\n",
            "\t tempo [ms] 5.03  \t tensione [Volt] 3.9499137376548186\n",
            "\t tempo [ms] 5.28  \t tensione [Volt] 4.100032148259586\n",
            "\t tempo [ms] 5.53  \t tensione [Volt] 4.246425729791624\n",
            "\t tempo [ms] 5.78  \t tensione [Volt] 4.38918690496954\n",
            "\t tempo [ms] 6.03  \t tensione [Volt] 4.528405803263379\n",
            "\t tempo [ms] 6.28  \t tensione [Volt] 4.664170317796098\n",
            "\t tempo [ms] 6.53  \t tensione [Volt] 4.796566160833169\n",
            "\t tempo [ms] 6.78  \t tensione [Volt] 4.925676917895332\n",
            "\t tempo [ms] 7.04  \t tensione [Volt] 5.051584100528686\n",
            "\t tempo [ms] 7.29  \t tensione [Volt] 5.174367197765393\n",
            "\t tempo [ms] 7.54  \t tensione [Volt] 5.2941037263075295\n",
            "\t tempo [ms] 7.79  \t tensione [Volt] 5.410869279465738\n",
            "\t tempo [ms] 8.04  \t tensione [Volt] 5.524737574883574\n",
            "\t tempo [ms] 8.29  \t tensione [Volt] 5.6357805010777025\n",
            "\t tempo [ms] 8.54  \t tensione [Volt] 5.744068162823304\n",
            "\t tempo [ms] 8.79  \t tensione [Volt] 5.849668925413347\n",
            "\t tempo [ms] 9.05  \t tensione [Volt] 5.9526494578196765\n",
            "\t tempo [ms] 9.3  \t tensione [Volt] 6.053074774783163\n",
            "\t tempo [ms] 9.55  \t tensione [Volt] 6.151008277859489\n",
            "\t tempo [ms] 9.8  \t tensione [Volt] 6.2465117954464695\n",
            "\t tempo [ms] 10.05  \t tensione [Volt] 6.33964562181821\n",
            "\t tempo [ms] 10.3  \t tensione [Volt] 6.430468555190711\n",
            "\t tempo [ms] 10.55  \t tensione [Volt] 6.51903793484296\n",
            "\t tempo [ms] 10.8  \t tensione [Volt] 6.605409677316977\n",
            "\t tempo [ms] 11.06  \t tensione [Volt] 6.689638311719614\n",
            "\t tempo [ms] 11.31  \t tensione [Volt] 6.771777014148452\n",
            "\t tempo [ms] 11.56  \t tensione [Volt] 6.851877641263471\n",
            "\t tempo [ms] 11.81  \t tensione [Volt] 6.9299907630257485\n",
            "\t tempo [ms] 12.06  \t tensione [Volt] 7.006165694623813\n",
            "\t tempo [ms] 12.31  \t tensione [Volt] 7.0804505276078125\n",
            "\t tempo [ms] 12.56  \t tensione [Volt] 7.152892160251181\n",
            "\t tempo [ms] 12.81  \t tensione [Volt] 7.223536327158941\n",
            "\t tempo [ms] 13.07  \t tensione [Volt] 7.292427628141354\n",
            "\t tempo [ms] 13.32  \t tensione [Volt] 7.359609556371124\n",
            "\t tempo [ms] 13.57  \t tensione [Volt] 7.425124525841978\n",
            "\t tempo [ms] 13.82  \t tensione [Volt] 7.489013898145897\n",
            "\t tempo [ms] 14.07  \t tensione [Volt] 7.55131800858595\n",
            "\t tempo [ms] 14.32  \t tensione [Volt] 7.612076191641195\n",
            "\t tempo [ms] 14.57  \t tensione [Volt] 7.671326805799737\n",
            "\t tempo [ms] 14.82  \t tensione [Volt] 7.729107257775601\n",
            "\t tempo [ms] 15.08  \t tensione [Volt] 7.785454026124732\n",
            "\t tempo [ms] 15.33  \t tensione [Volt] 7.840402684275017\n",
            "\t tempo [ms] 15.58  \t tensione [Volt] 7.893987922984868\n",
            "\t tempo [ms] 15.83  \t tensione [Volt] 7.946243572244555\n",
            "\t tempo [ms] 16.08  \t tensione [Volt] 7.997202622634104\n",
            "\t tempo [ms] 16.33  \t tensione [Volt] 8.04689724615126\n",
            "\t tempo [ms] 16.58  \t tensione [Volt] 8.095358816522642\n",
            "\t tempo [ms] 16.83  \t tensione [Volt] 8.142617929010926\n",
            "\t tempo [ms] 17.09  \t tensione [Volt] 8.188704419730579\n",
            "\t tempo [ms] 17.34  \t tensione [Volt] 8.23364738448429\n",
            "\t tempo [ms] 17.59  \t tensione [Volt] 8.277475197132041\n",
            "\t tempo [ms] 17.84  \t tensione [Volt] 8.320215527504386\n",
            "\t tempo [ms] 18.09  \t tensione [Volt] 8.361895358871264\n",
            "\t tempo [ms] 18.34  \t tensione [Volt] 8.402541004977344\n",
            "\t tempo [ms] 18.59  \t tensione [Volt] 8.442178126654703\n",
            "\t tempo [ms] 18.84  \t tensione [Volt] 8.480831748023283\n",
            "\t tempo [ms] 19.1  \t tensione [Volt] 8.518526272289382\n",
            "\t tempo [ms] 19.35  \t tensione [Volt] 8.555285497152141\n",
            "\t tempo [ms] 19.6  \t tensione [Volt] 8.59113262982775\n",
            "\t tempo [ms] 19.85  \t tensione [Volt] 8.626090301700879\n",
            "\t tempo [ms] 20.1  \t tensione [Volt] 8.660180582612542\n",
            "\t tempo [ms] 20.35  \t tensione [Volt] 8.693424994793475\n",
            "\t tempo [ms] 20.6  \t tensione [Volt] 8.72584452645177\n",
            "\t tempo [ms] 20.85  \t tensione [Volt] 8.757459645023367\n",
            "\t tempo [ms] 21.11  \t tensione [Volt] 8.788290310093764\n",
            "\t tempo [ms] 21.36  \t tensione [Volt] 8.81835598599912\n",
            "\t tempo [ms] 21.61  \t tensione [Volt] 8.847675654114678\n",
            "\t tempo [ms] 21.86  \t tensione [Volt] 8.876267824838278\n",
            "\t tempo [ms] 22.11  \t tensione [Volt] 8.904150549276544\n",
            "\t tempo [ms] 22.36  \t tensione [Volt] 8.931341430641092\n",
            "\t tempo [ms] 22.61  \t tensione [Volt] 8.957857635361972\n",
            "\t tempo [ms] 22.86  \t tensione [Volt] 8.983715903925354\n",
            "\t tempo [ms] 23.12  \t tensione [Volt] 9.008932561442315\n",
            "\t tempo [ms] 23.37  \t tensione [Volt] 9.033523527955369\n",
            "\t tempo [ms] 23.62  \t tensione [Volt] 9.057504328489278\n",
            "\t tempo [ms] 23.87  \t tensione [Volt] 9.080890102852472\n",
            "\t tempo [ms] 24.12  \t tensione [Volt] 9.103695615195269\n",
            "\t tempo [ms] 24.37  \t tensione [Volt] 9.125935263330932\n",
            "\t tempo [ms] 24.62  \t tensione [Volt] 9.14762308782545\n",
            "\t tempo [ms] 24.87  \t tensione [Volt] 9.168772780861767\n",
            "\t tempo [ms] 25.13  \t tensione [Volt] 9.189397694884082\n",
            "\t tempo [ms] 25.38  \t tensione [Volt] 9.209510851027643\n",
            "\t tempo [ms] 25.63  \t tensione [Volt] 9.229124947339395\n",
            "\t tempo [ms] 25.88  \t tensione [Volt] 9.248252366794636\n",
            "\t tempo [ms] 26.13  \t tensione [Volt] 9.266905185114775\n",
            "\t tempo [ms] 26.38  \t tensione [Volt] 9.285095178391087\n",
            "\t tempo [ms] 26.63  \t tensione [Volt] 9.30283383051933\n",
            "\t tempo [ms] 26.88  \t tensione [Volt] 9.320132340449879\n",
            "\t tempo [ms] 27.14  \t tensione [Volt] 9.337001629257951\n",
            "\t tempo [ms] 27.39  \t tensione [Volt] 9.353452347038422\n",
            "\t tempo [ms] 27.64  \t tensione [Volt] 9.369494879629555\n",
            "\t tempo [ms] 27.89  \t tensione [Volt] 9.385139355169889\n",
            "\t tempo [ms] 28.14  \t tensione [Volt] 9.400395650492452\n",
            "\t tempo [ms] 28.39  \t tensione [Volt] 9.415273397360295\n",
            "\t tempo [ms] 28.64  \t tensione [Volt] 9.429781988547319\n",
            "\t tempo [ms] 28.89  \t tensione [Volt] 9.443930583768225\n",
            "\t tempo [ms] 29.15  \t tensione [Volt] 9.457728115461315\n",
            "\t tempo [ms] 29.4  \t tensione [Volt] 9.471183294427812\n",
            "\t tempo [ms] 29.65  \t tensione [Volt] 9.484304615331254\n",
            "\t tempo [ms] 29.9  \t tensione [Volt] 9.497100362060438\n",
            "\t tempo [ms] 30.15  \t tensione [Volt] 9.509578612959285\n",
            "\t tempo [ms] 30.4  \t tensione [Volt] 9.52174724592694\n",
            "\t tempo [ms] 30.65  \t tensione [Volt] 9.533613943391344\n",
            "\t tempo [ms] 30.9  \t tensione [Volt] 9.545186197159373\n",
            "\t tempo [ms] 31.16  \t tensione [Volt] 9.556471313146641\n",
            "\t tempo [ms] 31.41  \t tensione [Volt] 9.567476415989958\n",
            "\t tempo [ms] 31.66  \t tensione [Volt] 9.578208453545319\n",
            "\t tempo [ms] 31.91  \t tensione [Volt] 9.588674201274305\n",
            "\t tempo [ms] 32.16  \t tensione [Volt] 9.598880266521629\n",
            "\t tempo [ms] 32.41  \t tensione [Volt] 9.608833092686563\n",
            "\t tempo [ms] 32.66  \t tensione [Volt] 9.618538963290847\n",
            "\t tempo [ms] 32.91  \t tensione [Volt] 9.628004005945666\n",
            "\t tempo [ms] 33.17  \t tensione [Volt] 9.637234196220197\n",
            "\t tempo [ms] 33.42  \t tensione [Volt] 9.646235361414174\n",
            "\t tempo [ms] 33.67  \t tensione [Volt] 9.655013184236834\n",
            "\t tempo [ms] 33.92  \t tensione [Volt] 9.663573206394583\n",
            "\t tempo [ms] 34.17  \t tensione [Volt] 9.671920832089647\n",
            "\t tempo [ms] 34.42  \t tensione [Volt] 9.680061331431906\n",
            "\t tempo [ms] 34.67  \t tensione [Volt] 9.68799984376608\n",
            "\t tempo [ms] 34.92  \t tensione [Volt] 9.695741380916349\n",
            "\t tempo [ms] 35.18  \t tensione [Volt] 9.70329083035047\n",
            "\t tempo [ms] 35.43  \t tensione [Volt] 9.710652958265383\n",
            "\t tempo [ms] 35.68  \t tensione [Volt] 9.717832412596263\n",
            "\t tempo [ms] 35.93  \t tensione [Volt] 9.724833725950896\n",
            "\t tempo [ms] 36.18  \t tensione [Volt] 9.73166131847125\n",
            "\t tempo [ms] 36.43  \t tensione [Volt] 9.738319500624055\n",
            "\t tempo [ms] 36.68  \t tensione [Volt] 9.74481247592212\n",
            "\t tempo [ms] 36.93  \t tensione [Volt] 9.75114434357815\n",
            "\t tempo [ms] 37.19  \t tensione [Volt] 9.757319101092696\n",
            "\t tempo [ms] 37.44  \t tensione [Volt] 9.763340646777893\n",
            "\t tempo [ms] 37.69  \t tensione [Volt] 9.7692127822186\n",
            "\t tempo [ms] 37.94  \t tensione [Volt] 9.774939214672443\n",
            "\t tempo [ms] 38.19  \t tensione [Volt] 9.78052355941032\n",
            "\t tempo [ms] 38.44  \t tensione [Volt] 9.78596934199884\n",
            "\t tempo [ms] 38.69  \t tensione [Volt] 9.791280000526106\n",
            "\t tempo [ms] 38.94  \t tensione [Volt] 9.796458887772303\n",
            "\t tempo [ms] 39.2  \t tensione [Volt] 9.801509273326394\n",
            "\t tempo [ms] 39.45  \t tensione [Volt] 9.806434345650317\n",
            "\t tempo [ms] 39.7  \t tensione [Volt] 9.81123721409196\n",
            "\t tempo [ms] 39.95  \t tensione [Volt] 9.81592091084819\n",
            "\t tempo [ms] 40.2  \t tensione [Volt] 9.820488392879152\n",
            "\t tempo [ms] 40.45  \t tensione [Volt] 9.824942543775117\n",
            "\t tempo [ms] 40.7  \t tensione [Volt] 9.829286175576957\n",
            "\t tempo [ms] 40.95  \t tensione [Volt] 9.83352203055148\n",
            "\t tempo [ms] 41.21  \t tensione [Volt] 9.837652782922708\n",
            "\t tempo [ms] 41.46  \t tensione [Volt] 9.841681040560196\n",
            "\t tempo [ms] 41.71  \t tensione [Volt] 9.845609346625455\n",
            "\t tempo [ms] 41.96  \t tensione [Volt] 9.849440181177528\n",
            "\t tempo [ms] 42.21  \t tensione [Volt] 9.853175962738733\n",
            "\t tempo [ms] 42.46  \t tensione [Volt] 9.856819049821544\n",
            "\t tempo [ms] 42.71  \t tensione [Volt] 9.860371742417588\n",
            "\t tempo [ms] 42.96  \t tensione [Volt] 9.863836283449713\n",
            "\t tempo [ms] 43.22  \t tensione [Volt] 9.867214860187996\n",
            "\t tempo [ms] 43.47  \t tensione [Volt] 9.870509605630648\n",
            "\t tempo [ms] 43.72  \t tensione [Volt] 9.87372259985063\n",
            "\t tempo [ms] 43.97  \t tensione [Volt] 9.876855871308875\n",
            "\t tempo [ms] 44.22  \t tensione [Volt] 9.87991139813491\n",
            "\t tempo [ms] 44.47  \t tensione [Volt] 9.882891109375713\n",
            "\t tempo [ms] 44.72  \t tensione [Volt] 9.885796886213576\n",
            "\t tempo [ms] 44.97  \t tensione [Volt] 9.888630563153761\n",
            "\t tempo [ms] 45.23  \t tensione [Volt] 9.891393929182666\n",
            "\t tempo [ms] 45.48  \t tensione [Volt] 9.894088728897275\n",
            "\t tempo [ms] 45.73  \t tensione [Volt] 9.896716663606574\n",
            "\t tempo [ms] 45.98  \t tensione [Volt] 9.899279392405639\n",
            "\t tempo [ms] 46.23  \t tensione [Volt] 9.901778533223071\n",
            "\t tempo [ms] 46.48  \t tensione [Volt] 9.904215663842447\n",
            "\t tempo [ms] 46.73  \t tensione [Volt] 9.906592322898417\n",
            "\t tempo [ms] 46.98  \t tensione [Volt] 9.908910010848098\n",
            "\t tempo [ms] 47.24  \t tensione [Volt] 9.911170190918355\n",
            "\t tempo [ms] 47.49  \t tensione [Volt] 9.913374290029578\n",
            "\t tempo [ms] 47.74  \t tensione [Volt] 9.915523699696546\n",
            "\t tempo [ms] 47.99  \t tensione [Volt] 9.917619776906925\n",
            "\t tempo [ms] 48.24  \t tensione [Volt] 9.919663844977983\n",
            "\t tempo [ms] 48.49  \t tensione [Volt] 9.921657194392031\n",
            "\t tempo [ms] 48.74  \t tensione [Volt] 9.923601083611164\n",
            "\t tempo [ms] 48.99  \t tensione [Volt] 9.925496739871736\n",
            "\t tempo [ms] 49.25  \t tensione [Volt] 9.927345359959178\n",
            "\t tempo [ms] 49.5  \t tensione [Volt] 9.92914811096355\n",
            "\t tempo [ms] 49.75  \t tensione [Volt] 9.930906131016371\n",
            "\t tempo [ms] 50.0  \t tensione [Volt] 9.932620530009146\n"
          ]
        }
      ]
    }
  ]
}