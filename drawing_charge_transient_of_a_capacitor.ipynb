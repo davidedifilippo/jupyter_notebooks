{
  "nbformat": 4,
  "nbformat_minor": 0,
  "metadata": {
    "colab": {
      "provenance": [],
      "authorship_tag": "ABX9TyPdhrrzNHIT4II6nWpMr+b9",
      "include_colab_link": true
    },
    "kernelspec": {
      "name": "python3",
      "display_name": "Python 3"
    },
    "language_info": {
      "name": "python"
    }
  },
  "cells": [
    {
      "cell_type": "markdown",
      "metadata": {
        "id": "view-in-github",
        "colab_type": "text"
      },
      "source": [
        "<a href=\"https://colab.research.google.com/github/davidedifilippo/jupyter_notebooks/blob/main/drawing_charge_transient_of_a_capacitor.ipynb\" target=\"_parent\"><img src=\"https://colab.research.google.com/assets/colab-badge.svg\" alt=\"Open In Colab\"/></a>"
      ]
    },
    {
      "cell_type": "code",
      "execution_count": null,
      "metadata": {
        "id": "tSUKVgUOHQoI"
      },
      "outputs": [],
      "source": [
        "#importo la libreria di calcolo numerico e la libreria per tracciare \n",
        "#i grafici nel tempo dei segnali \n",
        "\n",
        "import numpy as np \n",
        "import matplotlib.pyplot as plt \n"
      ]
    },
    {
      "cell_type": "code",
      "source": [
        "V = input(\"Tensione di alimentazione: \")\n",
        "R = input(\"inserire il valore di resistenza: \") \n",
        "C = input(\"inserire il valore della capacità del condensatore in microfarad: \")\n",
        "\n",
        "V = float(V)\n",
        "R = int(R)\n",
        "C = float(C) * pow(10, -6)\n",
        "\n",
        "1"
      ],
      "metadata": {
        "id": "xRyLH-Dh8y4J"
      },
      "execution_count": null,
      "outputs": []
    },
    {
      "cell_type": "markdown",
      "source": [
        "Calcoliamo la costante di tempo di carica del circuito:\n",
        "\n",
        "$$\\tau  = R*C $$\n",
        "\n",
        "ossia il tempo necessario alla tensione sul condensatore per raggiungere il 63% del valore finale."
      ],
      "metadata": {
        "id": "kY5mcr-A9yS7"
      }
    },
    {
      "cell_type": "code",
      "source": [
        "tau = R*C\n",
        "print(\"Costante di tempo di carica:\", np.round(tau*1000, 2), \"millisecondi\")"
      ],
      "metadata": {
        "id": "g4VtlIVE-Jlz"
      },
      "execution_count": null,
      "outputs": []
    },
    {
      "cell_type": "markdown",
      "source": [
        "Calcoliamo la costante di tempo di carica del circuito:\n",
        "\n",
        "$$T_{carica}  = 5*\\tau $$ "
      ],
      "metadata": {
        "id": "OgJN_88H-S18"
      }
    },
    {
      "cell_type": "code",
      "source": [
        "Tc = 5*tau\n",
        "print(\"Tempo di carica del condensatore:\", np.round(Tc*1000, 2) , \"millisecondi\")"
      ],
      "metadata": {
        "id": "vl9RaOlG-c2i"
      },
      "execution_count": null,
      "outputs": []
    },
    {
      "cell_type": "markdown",
      "source": [
        "Calcoliamo come aumenta la differenza di potenziale sul condensatore al passare del tempo."
      ],
      "metadata": {
        "id": "UUtvPnLL-iYk"
      }
    },
    {
      "cell_type": "code",
      "source": [
        "t = np.linspace(0, Tc*1000, 200)\n"
      ],
      "metadata": {
        "id": "qSMzUxJM-vQy"
      },
      "execution_count": null,
      "outputs": []
    },
    {
      "cell_type": "code",
      "source": [
        "vc = V *(1-np.exp(-t/tau))"
      ],
      "metadata": {
        "id": "llJ6DU4EC7E1"
      },
      "execution_count": null,
      "outputs": []
    },
    {
      "cell_type": "code",
      "source": [
        "plt.title('Andamento della tensione di carica sul condensatore')\n",
        "plt.plot(t, vc, 'b')\n",
        "plt.xlabel('Time [ms]')\n",
        "plt.ylabel('Voltage [V]')\n",
        "plt.grid()\n",
        "plt.show()"
      ],
      "metadata": {
        "id": "9YA2_MWZDOSH"
      },
      "execution_count": null,
      "outputs": []
    },
    {
      "cell_type": "code",
      "source": [
        "for i in range(200):\n",
        "  print(\"\\t tempo [ms]\", np.round(t[i], 2), \" \\t tensione [Volt]\", vc[i])"
      ],
      "metadata": {
        "id": "femqiPcUD7uh"
      },
      "execution_count": null,
      "outputs": []
    }
  ]
}