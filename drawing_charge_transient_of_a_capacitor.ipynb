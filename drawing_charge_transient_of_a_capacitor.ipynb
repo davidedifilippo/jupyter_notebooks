{
  "nbformat": 4,
  "nbformat_minor": 0,
  "metadata": {
    "colab": {
      "provenance": [],
      "authorship_tag": "ABX9TyN1j0RKqLJH3bf984NpCN4z",
      "include_colab_link": true
    },
    "kernelspec": {
      "name": "python3",
      "display_name": "Python 3"
    },
    "language_info": {
      "name": "python"
    }
  },
  "cells": [
    {
      "cell_type": "markdown",
      "metadata": {
        "id": "view-in-github",
        "colab_type": "text"
      },
      "source": [
        "<a href=\"https://colab.research.google.com/github/davidedifilippo/jupyter_notebooks/blob/main/drawing_charge_transient_of_a_capacitor.ipynb\" target=\"_parent\"><img src=\"https://colab.research.google.com/assets/colab-badge.svg\" alt=\"Open In Colab\"/></a>"
      ]
    },
    {
      "cell_type": "code",
      "execution_count": 1,
      "metadata": {
        "id": "tSUKVgUOHQoI"
      },
      "outputs": [],
      "source": [
        "#importo la libreria di calcolo numerico e la libreria per tracciare \n",
        "#i grafici nel tempo dei segnali \n",
        "\n",
        "import numpy as np \n",
        "import matplotlib.pyplot as plt \n"
      ]
    },
    {
      "cell_type": "code",
      "source": [
        "V = input(\"Tensione di alimentazione: \")\n",
        "R = input(\"inserire il valore di resistenza: \") \n",
        "C = input(\"inserire il valore della capacità del condensatore in microfarad: \")\n",
        "\n",
        "V = float(V)\n",
        "R = int(R)\n",
        "C = float(C) * pow(10, -6)\n"
      ],
      "metadata": {
        "id": "xRyLH-Dh8y4J",
        "colab": {
          "base_uri": "https://localhost:8080/"
        },
        "outputId": "7b07355b-85ec-4710-842c-4286a75b7a95"
      },
      "execution_count": 3,
      "outputs": [
        {
          "name": "stdout",
          "output_type": "stream",
          "text": [
            "Tensione di alimentazione: 10\n",
            "inserire il valore di resistenza: 1000\n",
            "inserire il valore della capacità del condensatore in microfarad: 10\n"
          ]
        }
      ]
    },
    {
      "cell_type": "markdown",
      "source": [
        "Calcoliamo la costante di tempo di carica del circuito:\n",
        "\n",
        "$$\\tau  = R*C $$\n",
        "\n",
        "ossia il tempo necessario alla tensione sul condensatore per raggiungere il 63% del valore finale."
      ],
      "metadata": {
        "id": "kY5mcr-A9yS7"
      }
    },
    {
      "cell_type": "code",
      "source": [
        "tau = R*C\n",
        "print(\"Costante di tempo di carica:\", np.round(tau*1000, 2), \"millisecondi\")"
      ],
      "metadata": {
        "id": "g4VtlIVE-Jlz",
        "colab": {
          "base_uri": "https://localhost:8080/"
        },
        "outputId": "1bfaea61-f8da-4651-9cfa-cfbe43ec2b01"
      },
      "execution_count": 4,
      "outputs": [
        {
          "output_type": "stream",
          "name": "stdout",
          "text": [
            "Costante di tempo di carica: 10.0 millisecondi\n"
          ]
        }
      ]
    },
    {
      "cell_type": "markdown",
      "source": [
        "Calcoliamo la costante di tempo di carica del circuito:\n",
        "\n",
        "$$T_{carica}  = 5*\\tau $$ "
      ],
      "metadata": {
        "id": "OgJN_88H-S18"
      }
    },
    {
      "cell_type": "code",
      "source": [
        "Tc = 5*tau\n",
        "print(\"Tempo di carica del condensatore:\", np.round(Tc*1000, 2) , \"millisecondi\")"
      ],
      "metadata": {
        "id": "vl9RaOlG-c2i",
        "colab": {
          "base_uri": "https://localhost:8080/"
        },
        "outputId": "5d398ddf-d3cc-4f29-b8c7-19546f8ac978"
      },
      "execution_count": 5,
      "outputs": [
        {
          "output_type": "stream",
          "name": "stdout",
          "text": [
            "Tempo di carica del condensatore: 50.0 millisecondi\n"
          ]
        }
      ]
    },
    {
      "cell_type": "markdown",
      "source": [
        "Calcoliamo come aumenta la differenza di potenziale sul condensatore al passare del tempo."
      ],
      "metadata": {
        "id": "UUtvPnLL-iYk"
      }
    },
    {
      "cell_type": "code",
      "source": [
        "t = np.linspace(0, Tc, 200)\n"
      ],
      "metadata": {
        "id": "qSMzUxJM-vQy"
      },
      "execution_count": 6,
      "outputs": []
    },
    {
      "cell_type": "markdown",
      "source": [
        "Calcolo della differenza di potenziale di carica sul condensatore nel tempo:"
      ],
      "metadata": {
        "id": "hU3yyfW1p-63"
      }
    },
    {
      "cell_type": "code",
      "source": [
        "vc = V *(1-np.exp(-t/tau))"
      ],
      "metadata": {
        "id": "llJ6DU4EC7E1"
      },
      "execution_count": 7,
      "outputs": []
    },
    {
      "cell_type": "markdown",
      "source": [
        "Calcolo della corrente di carica nel tempo:"
      ],
      "metadata": {
        "id": "2FYz91LSqS9J"
      }
    },
    {
      "cell_type": "code",
      "source": [
        "ic = V/R*np.exp(-t/tau)"
      ],
      "metadata": {
        "id": "ndN2TXq9p-dI"
      },
      "execution_count": 11,
      "outputs": []
    },
    {
      "cell_type": "code",
      "source": [
        "figure = plt.subplots(figsize=(11, 6))\n",
        "plt.subplot(121)\n",
        "\n",
        "\n",
        "plt.title('Andamento della tensione di carica sul condensatore')\n",
        "plt.plot(t, vc, 'b')\n",
        "plt.xlabel('Time [ms]')\n",
        "plt.ylabel('Tensione [V]')\n",
        "plt.grid()\n",
        "\n",
        "\n",
        "plt.subplot(122)\n",
        "\n",
        "plt.title('Andamento della corrente di carica sul condensatore')\n",
        "plt.plot(t, ic, 'b', color = \"orange\")\n",
        "plt.xlabel('Time [ms]')\n",
        "plt.ylabel('Corrente [V]')\n",
        "plt.grid()\n",
        "\n",
        "plt.show()"
      ],
      "metadata": {
        "id": "9YA2_MWZDOSH",
        "colab": {
          "base_uri": "https://localhost:8080/",
          "height": 404
        },
        "outputId": "9969311d-b7d9-4260-e0b8-98da6bf06a4c"
      },
      "execution_count": 12,
      "outputs": [
        {
          "output_type": "display_data",
          "data": {
            "text/plain": [
              "<Figure size 792x432 with 2 Axes>"
            ],
            "image/png": "[encoded data removed]"
          },
          "metadata": {
            "needs_background": "light"
          }
        }
      ]
    },
    {
      "cell_type": "code",
      "source": [
        "for i in range(200):\n",
        "  print(\"\\t tempo [ms]\", np.round(t[i]*1000, 2), \" \\t tensione [Volt]\", np.round(vc[i],2), \" \\t corrente [mA]\", np.round(ic[i]*1000,2))"
      ],
      "metadata": {
        "id": "femqiPcUD7uh",
        "colab": {
          "base_uri": "https://localhost:8080/"
        },
        "outputId": "311a2226-a732-4726-e99c-9a90988976cd"
      },
      "execution_count": 17,
      "outputs": [
        {
          "output_type": "stream",
          "name": "stdout",
          "text": [
            "\t tempo [ms] 0.0  \t tensione [Volt] 0.0  \t corrente [mA] 10.0\n",
            "\t tempo [ms] 0.25  \t tensione [Volt] 0.25  \t corrente [mA] 9.75\n",
            "\t tempo [ms] 0.5  \t tensione [Volt] 0.49  \t corrente [mA] 9.51\n",
            "\t tempo [ms] 0.75  \t tensione [Volt] 0.73  \t corrente [mA] 9.27\n",
            "\t tempo [ms] 1.01  \t tensione [Volt] 0.96  \t corrente [mA] 9.04\n",
            "\t tempo [ms] 1.26  \t tensione [Volt] 1.18  \t corrente [mA] 8.82\n",
            "\t tempo [ms] 1.51  \t tensione [Volt] 1.4  \t corrente [mA] 8.6\n",
            "\t tempo [ms] 1.76  \t tensione [Volt] 1.61  \t corrente [mA] 8.39\n",
            "\t tempo [ms] 2.01  \t tensione [Volt] 1.82  \t corrente [mA] 8.18\n",
            "\t tempo [ms] 2.26  \t tensione [Volt] 2.02  \t corrente [mA] 7.98\n",
            "\t tempo [ms] 2.51  \t tensione [Volt] 2.22  \t corrente [mA] 7.78\n",
            "\t tempo [ms] 2.76  \t tensione [Volt] 2.41  \t corrente [mA] 7.59\n",
            "\t tempo [ms] 3.02  \t tensione [Volt] 2.6  \t corrente [mA] 7.4\n",
            "\t tempo [ms] 3.27  \t tensione [Volt] 2.79  \t corrente [mA] 7.21\n",
            "\t tempo [ms] 3.52  \t tensione [Volt] 2.97  \t corrente [mA] 7.03\n",
            "\t tempo [ms] 3.77  \t tensione [Volt] 3.14  \t corrente [mA] 6.86\n",
            "\t tempo [ms] 4.02  \t tensione [Volt] 3.31  \t corrente [mA] 6.69\n",
            "\t tempo [ms] 4.27  \t tensione [Volt] 3.48  \t corrente [mA] 6.52\n",
            "\t tempo [ms] 4.52  \t tensione [Volt] 3.64  \t corrente [mA] 6.36\n",
            "\t tempo [ms] 4.77  \t tensione [Volt] 3.8  \t corrente [mA] 6.2\n",
            "\t tempo [ms] 5.03  \t tensione [Volt] 3.95  \t corrente [mA] 6.05\n",
            "\t tempo [ms] 5.28  \t tensione [Volt] 4.1  \t corrente [mA] 5.9\n",
            "\t tempo [ms] 5.53  \t tensione [Volt] 4.25  \t corrente [mA] 5.75\n",
            "\t tempo [ms] 5.78  \t tensione [Volt] 4.39  \t corrente [mA] 5.61\n",
            "\t tempo [ms] 6.03  \t tensione [Volt] 4.53  \t corrente [mA] 5.47\n",
            "\t tempo [ms] 6.28  \t tensione [Volt] 4.66  \t corrente [mA] 5.34\n",
            "\t tempo [ms] 6.53  \t tensione [Volt] 4.8  \t corrente [mA] 5.2\n",
            "\t tempo [ms] 6.78  \t tensione [Volt] 4.93  \t corrente [mA] 5.07\n",
            "\t tempo [ms] 7.04  \t tensione [Volt] 5.05  \t corrente [mA] 4.95\n",
            "\t tempo [ms] 7.29  \t tensione [Volt] 5.17  \t corrente [mA] 4.83\n",
            "\t tempo [ms] 7.54  \t tensione [Volt] 5.29  \t corrente [mA] 4.71\n",
            "\t tempo [ms] 7.79  \t tensione [Volt] 5.41  \t corrente [mA] 4.59\n",
            "\t tempo [ms] 8.04  \t tensione [Volt] 5.52  \t corrente [mA] 4.48\n",
            "\t tempo [ms] 8.29  \t tensione [Volt] 5.64  \t corrente [mA] 4.36\n",
            "\t tempo [ms] 8.54  \t tensione [Volt] 5.74  \t corrente [mA] 4.26\n",
            "\t tempo [ms] 8.79  \t tensione [Volt] 5.85  \t corrente [mA] 4.15\n",
            "\t tempo [ms] 9.05  \t tensione [Volt] 5.95  \t corrente [mA] 4.05\n",
            "\t tempo [ms] 9.3  \t tensione [Volt] 6.05  \t corrente [mA] 3.95\n",
            "\t tempo [ms] 9.55  \t tensione [Volt] 6.15  \t corrente [mA] 3.85\n",
            "\t tempo [ms] 9.8  \t tensione [Volt] 6.25  \t corrente [mA] 3.75\n",
            "\t tempo [ms] 10.05  \t tensione [Volt] 6.34  \t corrente [mA] 3.66\n",
            "\t tempo [ms] 10.3  \t tensione [Volt] 6.43  \t corrente [mA] 3.57\n",
            "\t tempo [ms] 10.55  \t tensione [Volt] 6.52  \t corrente [mA] 3.48\n",
            "\t tempo [ms] 10.8  \t tensione [Volt] 6.61  \t corrente [mA] 3.39\n",
            "\t tempo [ms] 11.06  \t tensione [Volt] 6.69  \t corrente [mA] 3.31\n",
            "\t tempo [ms] 11.31  \t tensione [Volt] 6.77  \t corrente [mA] 3.23\n",
            "\t tempo [ms] 11.56  \t tensione [Volt] 6.85  \t corrente [mA] 3.15\n",
            "\t tempo [ms] 11.81  \t tensione [Volt] 6.93  \t corrente [mA] 3.07\n",
            "\t tempo [ms] 12.06  \t tensione [Volt] 7.01  \t corrente [mA] 2.99\n",
            "\t tempo [ms] 12.31  \t tensione [Volt] 7.08  \t corrente [mA] 2.92\n",
            "\t tempo [ms] 12.56  \t tensione [Volt] 7.15  \t corrente [mA] 2.85\n",
            "\t tempo [ms] 12.81  \t tensione [Volt] 7.22  \t corrente [mA] 2.78\n",
            "\t tempo [ms] 13.07  \t tensione [Volt] 7.29  \t corrente [mA] 2.71\n",
            "\t tempo [ms] 13.32  \t tensione [Volt] 7.36  \t corrente [mA] 2.64\n",
            "\t tempo [ms] 13.57  \t tensione [Volt] 7.43  \t corrente [mA] 2.57\n",
            "\t tempo [ms] 13.82  \t tensione [Volt] 7.49  \t corrente [mA] 2.51\n",
            "\t tempo [ms] 14.07  \t tensione [Volt] 7.55  \t corrente [mA] 2.45\n",
            "\t tempo [ms] 14.32  \t tensione [Volt] 7.61  \t corrente [mA] 2.39\n",
            "\t tempo [ms] 14.57  \t tensione [Volt] 7.67  \t corrente [mA] 2.33\n",
            "\t tempo [ms] 14.82  \t tensione [Volt] 7.73  \t corrente [mA] 2.27\n",
            "\t tempo [ms] 15.08  \t tensione [Volt] 7.79  \t corrente [mA] 2.21\n",
            "\t tempo [ms] 15.33  \t tensione [Volt] 7.84  \t corrente [mA] 2.16\n",
            "\t tempo [ms] 15.58  \t tensione [Volt] 7.89  \t corrente [mA] 2.11\n",
            "\t tempo [ms] 15.83  \t tensione [Volt] 7.95  \t corrente [mA] 2.05\n",
            "\t tempo [ms] 16.08  \t tensione [Volt] 8.0  \t corrente [mA] 2.0\n",
            "\t tempo [ms] 16.33  \t tensione [Volt] 8.05  \t corrente [mA] 1.95\n",
            "\t tempo [ms] 16.58  \t tensione [Volt] 8.1  \t corrente [mA] 1.9\n",
            "\t tempo [ms] 16.83  \t tensione [Volt] 8.14  \t corrente [mA] 1.86\n",
            "\t tempo [ms] 17.09  \t tensione [Volt] 8.19  \t corrente [mA] 1.81\n",
            "\t tempo [ms] 17.34  \t tensione [Volt] 8.23  \t corrente [mA] 1.77\n",
            "\t tempo [ms] 17.59  \t tensione [Volt] 8.28  \t corrente [mA] 1.72\n",
            "\t tempo [ms] 17.84  \t tensione [Volt] 8.32  \t corrente [mA] 1.68\n",
            "\t tempo [ms] 18.09  \t tensione [Volt] 8.36  \t corrente [mA] 1.64\n",
            "\t tempo [ms] 18.34  \t tensione [Volt] 8.4  \t corrente [mA] 1.6\n",
            "\t tempo [ms] 18.59  \t tensione [Volt] 8.44  \t corrente [mA] 1.56\n",
            "\t tempo [ms] 18.84  \t tensione [Volt] 8.48  \t corrente [mA] 1.52\n",
            "\t tempo [ms] 19.1  \t tensione [Volt] 8.52  \t corrente [mA] 1.48\n",
            "\t tempo [ms] 19.35  \t tensione [Volt] 8.56  \t corrente [mA] 1.44\n",
            "\t tempo [ms] 19.6  \t tensione [Volt] 8.59  \t corrente [mA] 1.41\n",
            "\t tempo [ms] 19.85  \t tensione [Volt] 8.63  \t corrente [mA] 1.37\n",
            "\t tempo [ms] 20.1  \t tensione [Volt] 8.66  \t corrente [mA] 1.34\n",
            "\t tempo [ms] 20.35  \t tensione [Volt] 8.69  \t corrente [mA] 1.31\n",
            "\t tempo [ms] 20.6  \t tensione [Volt] 8.73  \t corrente [mA] 1.27\n",
            "\t tempo [ms] 20.85  \t tensione [Volt] 8.76  \t corrente [mA] 1.24\n",
            "\t tempo [ms] 21.11  \t tensione [Volt] 8.79  \t corrente [mA] 1.21\n",
            "\t tempo [ms] 21.36  \t tensione [Volt] 8.82  \t corrente [mA] 1.18\n",
            "\t tempo [ms] 21.61  \t tensione [Volt] 8.85  \t corrente [mA] 1.15\n",
            "\t tempo [ms] 21.86  \t tensione [Volt] 8.88  \t corrente [mA] 1.12\n",
            "\t tempo [ms] 22.11  \t tensione [Volt] 8.9  \t corrente [mA] 1.1\n",
            "\t tempo [ms] 22.36  \t tensione [Volt] 8.93  \t corrente [mA] 1.07\n",
            "\t tempo [ms] 22.61  \t tensione [Volt] 8.96  \t corrente [mA] 1.04\n",
            "\t tempo [ms] 22.86  \t tensione [Volt] 8.98  \t corrente [mA] 1.02\n",
            "\t tempo [ms] 23.12  \t tensione [Volt] 9.01  \t corrente [mA] 0.99\n",
            "\t tempo [ms] 23.37  \t tensione [Volt] 9.03  \t corrente [mA] 0.97\n",
            "\t tempo [ms] 23.62  \t tensione [Volt] 9.06  \t corrente [mA] 0.94\n",
            "\t tempo [ms] 23.87  \t tensione [Volt] 9.08  \t corrente [mA] 0.92\n",
            "\t tempo [ms] 24.12  \t tensione [Volt] 9.1  \t corrente [mA] 0.9\n",
            "\t tempo [ms] 24.37  \t tensione [Volt] 9.13  \t corrente [mA] 0.87\n",
            "\t tempo [ms] 24.62  \t tensione [Volt] 9.15  \t corrente [mA] 0.85\n",
            "\t tempo [ms] 24.87  \t tensione [Volt] 9.17  \t corrente [mA] 0.83\n",
            "\t tempo [ms] 25.13  \t tensione [Volt] 9.19  \t corrente [mA] 0.81\n",
            "\t tempo [ms] 25.38  \t tensione [Volt] 9.21  \t corrente [mA] 0.79\n",
            "\t tempo [ms] 25.63  \t tensione [Volt] 9.23  \t corrente [mA] 0.77\n",
            "\t tempo [ms] 25.88  \t tensione [Volt] 9.25  \t corrente [mA] 0.75\n",
            "\t tempo [ms] 26.13  \t tensione [Volt] 9.27  \t corrente [mA] 0.73\n",
            "\t tempo [ms] 26.38  \t tensione [Volt] 9.29  \t corrente [mA] 0.71\n",
            "\t tempo [ms] 26.63  \t tensione [Volt] 9.3  \t corrente [mA] 0.7\n",
            "\t tempo [ms] 26.88  \t tensione [Volt] 9.32  \t corrente [mA] 0.68\n",
            "\t tempo [ms] 27.14  \t tensione [Volt] 9.34  \t corrente [mA] 0.66\n",
            "\t tempo [ms] 27.39  \t tensione [Volt] 9.35  \t corrente [mA] 0.65\n",
            "\t tempo [ms] 27.64  \t tensione [Volt] 9.37  \t corrente [mA] 0.63\n",
            "\t tempo [ms] 27.89  \t tensione [Volt] 9.39  \t corrente [mA] 0.61\n",
            "\t tempo [ms] 28.14  \t tensione [Volt] 9.4  \t corrente [mA] 0.6\n",
            "\t tempo [ms] 28.39  \t tensione [Volt] 9.42  \t corrente [mA] 0.58\n",
            "\t tempo [ms] 28.64  \t tensione [Volt] 9.43  \t corrente [mA] 0.57\n",
            "\t tempo [ms] 28.89  \t tensione [Volt] 9.44  \t corrente [mA] 0.56\n",
            "\t tempo [ms] 29.15  \t tensione [Volt] 9.46  \t corrente [mA] 0.54\n",
            "\t tempo [ms] 29.4  \t tensione [Volt] 9.47  \t corrente [mA] 0.53\n",
            "\t tempo [ms] 29.65  \t tensione [Volt] 9.48  \t corrente [mA] 0.52\n",
            "\t tempo [ms] 29.9  \t tensione [Volt] 9.5  \t corrente [mA] 0.5\n",
            "\t tempo [ms] 30.15  \t tensione [Volt] 9.51  \t corrente [mA] 0.49\n",
            "\t tempo [ms] 30.4  \t tensione [Volt] 9.52  \t corrente [mA] 0.48\n",
            "\t tempo [ms] 30.65  \t tensione [Volt] 9.53  \t corrente [mA] 0.47\n",
            "\t tempo [ms] 30.9  \t tensione [Volt] 9.55  \t corrente [mA] 0.45\n",
            "\t tempo [ms] 31.16  \t tensione [Volt] 9.56  \t corrente [mA] 0.44\n",
            "\t tempo [ms] 31.41  \t tensione [Volt] 9.57  \t corrente [mA] 0.43\n",
            "\t tempo [ms] 31.66  \t tensione [Volt] 9.58  \t corrente [mA] 0.42\n",
            "\t tempo [ms] 31.91  \t tensione [Volt] 9.59  \t corrente [mA] 0.41\n",
            "\t tempo [ms] 32.16  \t tensione [Volt] 9.6  \t corrente [mA] 0.4\n",
            "\t tempo [ms] 32.41  \t tensione [Volt] 9.61  \t corrente [mA] 0.39\n",
            "\t tempo [ms] 32.66  \t tensione [Volt] 9.62  \t corrente [mA] 0.38\n",
            "\t tempo [ms] 32.91  \t tensione [Volt] 9.63  \t corrente [mA] 0.37\n",
            "\t tempo [ms] 33.17  \t tensione [Volt] 9.64  \t corrente [mA] 0.36\n",
            "\t tempo [ms] 33.42  \t tensione [Volt] 9.65  \t corrente [mA] 0.35\n",
            "\t tempo [ms] 33.67  \t tensione [Volt] 9.66  \t corrente [mA] 0.34\n",
            "\t tempo [ms] 33.92  \t tensione [Volt] 9.66  \t corrente [mA] 0.34\n",
            "\t tempo [ms] 34.17  \t tensione [Volt] 9.67  \t corrente [mA] 0.33\n",
            "\t tempo [ms] 34.42  \t tensione [Volt] 9.68  \t corrente [mA] 0.32\n",
            "\t tempo [ms] 34.67  \t tensione [Volt] 9.69  \t corrente [mA] 0.31\n",
            "\t tempo [ms] 34.92  \t tensione [Volt] 9.7  \t corrente [mA] 0.3\n",
            "\t tempo [ms] 35.18  \t tensione [Volt] 9.7  \t corrente [mA] 0.3\n",
            "\t tempo [ms] 35.43  \t tensione [Volt] 9.71  \t corrente [mA] 0.29\n",
            "\t tempo [ms] 35.68  \t tensione [Volt] 9.72  \t corrente [mA] 0.28\n",
            "\t tempo [ms] 35.93  \t tensione [Volt] 9.72  \t corrente [mA] 0.28\n",
            "\t tempo [ms] 36.18  \t tensione [Volt] 9.73  \t corrente [mA] 0.27\n",
            "\t tempo [ms] 36.43  \t tensione [Volt] 9.74  \t corrente [mA] 0.26\n",
            "\t tempo [ms] 36.68  \t tensione [Volt] 9.74  \t corrente [mA] 0.26\n",
            "\t tempo [ms] 36.93  \t tensione [Volt] 9.75  \t corrente [mA] 0.25\n",
            "\t tempo [ms] 37.19  \t tensione [Volt] 9.76  \t corrente [mA] 0.24\n",
            "\t tempo [ms] 37.44  \t tensione [Volt] 9.76  \t corrente [mA] 0.24\n",
            "\t tempo [ms] 37.69  \t tensione [Volt] 9.77  \t corrente [mA] 0.23\n",
            "\t tempo [ms] 37.94  \t tensione [Volt] 9.77  \t corrente [mA] 0.23\n",
            "\t tempo [ms] 38.19  \t tensione [Volt] 9.78  \t corrente [mA] 0.22\n",
            "\t tempo [ms] 38.44  \t tensione [Volt] 9.79  \t corrente [mA] 0.21\n",
            "\t tempo [ms] 38.69  \t tensione [Volt] 9.79  \t corrente [mA] 0.21\n",
            "\t tempo [ms] 38.94  \t tensione [Volt] 9.8  \t corrente [mA] 0.2\n",
            "\t tempo [ms] 39.2  \t tensione [Volt] 9.8  \t corrente [mA] 0.2\n",
            "\t tempo [ms] 39.45  \t tensione [Volt] 9.81  \t corrente [mA] 0.19\n",
            "\t tempo [ms] 39.7  \t tensione [Volt] 9.81  \t corrente [mA] 0.19\n",
            "\t tempo [ms] 39.95  \t tensione [Volt] 9.82  \t corrente [mA] 0.18\n",
            "\t tempo [ms] 40.2  \t tensione [Volt] 9.82  \t corrente [mA] 0.18\n",
            "\t tempo [ms] 40.45  \t tensione [Volt] 9.82  \t corrente [mA] 0.18\n",
            "\t tempo [ms] 40.7  \t tensione [Volt] 9.83  \t corrente [mA] 0.17\n",
            "\t tempo [ms] 40.95  \t tensione [Volt] 9.83  \t corrente [mA] 0.17\n",
            "\t tempo [ms] 41.21  \t tensione [Volt] 9.84  \t corrente [mA] 0.16\n",
            "\t tempo [ms] 41.46  \t tensione [Volt] 9.84  \t corrente [mA] 0.16\n",
            "\t tempo [ms] 41.71  \t tensione [Volt] 9.85  \t corrente [mA] 0.15\n",
            "\t tempo [ms] 41.96  \t tensione [Volt] 9.85  \t corrente [mA] 0.15\n",
            "\t tempo [ms] 42.21  \t tensione [Volt] 9.85  \t corrente [mA] 0.15\n",
            "\t tempo [ms] 42.46  \t tensione [Volt] 9.86  \t corrente [mA] 0.14\n",
            "\t tempo [ms] 42.71  \t tensione [Volt] 9.86  \t corrente [mA] 0.14\n",
            "\t tempo [ms] 42.96  \t tensione [Volt] 9.86  \t corrente [mA] 0.14\n",
            "\t tempo [ms] 43.22  \t tensione [Volt] 9.87  \t corrente [mA] 0.13\n",
            "\t tempo [ms] 43.47  \t tensione [Volt] 9.87  \t corrente [mA] 0.13\n",
            "\t tempo [ms] 43.72  \t tensione [Volt] 9.87  \t corrente [mA] 0.13\n",
            "\t tempo [ms] 43.97  \t tensione [Volt] 9.88  \t corrente [mA] 0.12\n",
            "\t tempo [ms] 44.22  \t tensione [Volt] 9.88  \t corrente [mA] 0.12\n",
            "\t tempo [ms] 44.47  \t tensione [Volt] 9.88  \t corrente [mA] 0.12\n",
            "\t tempo [ms] 44.72  \t tensione [Volt] 9.89  \t corrente [mA] 0.11\n",
            "\t tempo [ms] 44.97  \t tensione [Volt] 9.89  \t corrente [mA] 0.11\n",
            "\t tempo [ms] 45.23  \t tensione [Volt] 9.89  \t corrente [mA] 0.11\n",
            "\t tempo [ms] 45.48  \t tensione [Volt] 9.89  \t corrente [mA] 0.11\n",
            "\t tempo [ms] 45.73  \t tensione [Volt] 9.9  \t corrente [mA] 0.1\n",
            "\t tempo [ms] 45.98  \t tensione [Volt] 9.9  \t corrente [mA] 0.1\n",
            "\t tempo [ms] 46.23  \t tensione [Volt] 9.9  \t corrente [mA] 0.1\n",
            "\t tempo [ms] 46.48  \t tensione [Volt] 9.9  \t corrente [mA] 0.1\n",
            "\t tempo [ms] 46.73  \t tensione [Volt] 9.91  \t corrente [mA] 0.09\n",
            "\t tempo [ms] 46.98  \t tensione [Volt] 9.91  \t corrente [mA] 0.09\n",
            "\t tempo [ms] 47.24  \t tensione [Volt] 9.91  \t corrente [mA] 0.09\n",
            "\t tempo [ms] 47.49  \t tensione [Volt] 9.91  \t corrente [mA] 0.09\n",
            "\t tempo [ms] 47.74  \t tensione [Volt] 9.92  \t corrente [mA] 0.08\n",
            "\t tempo [ms] 47.99  \t tensione [Volt] 9.92  \t corrente [mA] 0.08\n",
            "\t tempo [ms] 48.24  \t tensione [Volt] 9.92  \t corrente [mA] 0.08\n",
            "\t tempo [ms] 48.49  \t tensione [Volt] 9.92  \t corrente [mA] 0.08\n",
            "\t tempo [ms] 48.74  \t tensione [Volt] 9.92  \t corrente [mA] 0.08\n",
            "\t tempo [ms] 48.99  \t tensione [Volt] 9.93  \t corrente [mA] 0.07\n",
            "\t tempo [ms] 49.25  \t tensione [Volt] 9.93  \t corrente [mA] 0.07\n",
            "\t tempo [ms] 49.5  \t tensione [Volt] 9.93  \t corrente [mA] 0.07\n",
            "\t tempo [ms] 49.75  \t tensione [Volt] 9.93  \t corrente [mA] 0.07\n",
            "\t tempo [ms] 50.0  \t tensione [Volt] 9.93  \t corrente [mA] 0.07\n"
          ]
        }
      ]
    }
  ]
}