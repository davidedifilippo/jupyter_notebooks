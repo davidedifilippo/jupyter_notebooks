{
  "nbformat": 4,
  "nbformat_minor": 0,
  "metadata": {
    "colab": {
      "provenance": [],
      "toc_visible": true,
      "authorship_tag": "ABX9TyPO7XrVIPFRxOvUQx6muKQ+",
      "include_colab_link": true
    },
    "kernelspec": {
      "name": "python3",
      "display_name": "Python 3"
    },
    "language_info": {
      "name": "python"
    }
  },
  "cells": [
    {
      "cell_type": "markdown",
      "metadata": {
        "id": "view-in-github",
        "colab_type": "text"
      },
      "source": [
        "<a href=\"https://colab.research.google.com/github/davidedifilippo/jupyter_notebooks/blob/main/Carico_Ohmico_Capacitivo_Serie.ipynb\" target=\"_parent\"><img src=\"https://colab.research.google.com/assets/colab-badge.svg\" alt=\"Open In Colab\"/></a>"
      ]
    },
    {
      "cell_type": "markdown",
      "source": [
        "\n",
        "\n"
      ],
      "metadata": {
        "id": "13i1hHHgA6G6"
      }
    },
    {
      "cell_type": "code",
      "execution_count": null,
      "metadata": {
        "id": "T2xLF3nb-Ngb"
      },
      "outputs": [],
      "source": [
        "import numpy as np\n",
        "\n",
        "#funzione per il disegno dei fasori sul piano complesso\n",
        "\n",
        "import matplotlib.pyplot as plt\n",
        "import numpy as np\n"
      ]
    },
    {
      "cell_type": "markdown",
      "source": [
        "Diamo la possibilità di inserire la frequenza di lavoro, la resistenza e la capacità del condensatore:"
      ],
      "metadata": {
        "id": "mYI3HKhF_udE"
      }
    },
    {
      "cell_type": "code",
      "source": [
        "\n",
        "\n",
        "f = input(\"Inserire la frequenza di lavoro:\")\n",
        "f = float(f)\n",
        "\n",
        "VG_max = input(\"Inserire la tensione di alimentazione:\")\n",
        "VG_max = float(VG_max)\n",
        "\n",
        "VG_ph = input(\"Inserire la fase del generatore:\")\n",
        "VG_ph = float(VG_ph)\n",
        "\n",
        "R = input(\"Inserire la resistenza:\")\n",
        "R = float(R)\n",
        "\n",
        "C = input(\"Inserire la capacità in microfarad:\")\n",
        "C = float(C) * pow(10,-6)\n",
        "\n",
        "VG = VG_max*(np.cos(VG_ph)+np.sin(VG_ph)*2j)\n",
        "\n",
        "print(\"\\nTensione di alimentazione: \", np.round(VG, 2))\n"
      ],
      "metadata": {
        "id": "Ya5vcJP3_Mf3"
      },
      "execution_count": null,
      "outputs": []
    },
    {
      "cell_type": "markdown",
      "source": [
        "Calcoliamo l'impedenza resistiva, la reattanza capacitivi, e l'impedenza capacitiva"
      ],
      "metadata": {
        "id": "rNTyeFKnFFsJ"
      }
    },
    {
      "cell_type": "code",
      "source": [
        "#Impedenza resistiva\n",
        "\n",
        "ZR = R\n",
        "print(\"ZR=\", np.round(ZR,2), \"Ohm\")\n",
        "\n"
      ],
      "metadata": {
        "id": "5IgQ20g2FoFc"
      },
      "execution_count": null,
      "outputs": []
    },
    {
      "cell_type": "code",
      "source": [
        "# Reattanza capacitiva\n",
        "\n",
        "Xc = 1/(2*np.pi*f*C)\n",
        "\n",
        "print(\"Xc=\", np.round(Xc,2), \"Ohm\")"
      ],
      "metadata": {
        "id": "U9iFN4Ef_yHq"
      },
      "execution_count": null,
      "outputs": []
    },
    {
      "cell_type": "code",
      "source": [
        "#Impedenza capacitiva\n",
        "\n",
        "Zc = -1j*Xc\n",
        "print(\"Zc=\", np.round(Zc,2), \"Ohm\")\n",
        "\n"
      ],
      "metadata": {
        "id": "3MH-q5yZ_2rU"
      },
      "execution_count": null,
      "outputs": []
    },
    {
      "cell_type": "markdown",
      "source": [
        "Poi calcoliamo l'impedenza serie vista dal generatore:\n"
      ],
      "metadata": {
        "id": "6uIqNu4kC3nr"
      }
    },
    {
      "cell_type": "code",
      "source": [
        "#Impedenza totale vista dal generatore\n",
        "\n",
        "Zserie = ZR + Zc\n",
        "print(\"Zserie=\", np.round(Zserie,2), \"Ohm\")\n"
      ],
      "metadata": {
        "id": "ytUs-xrzC55K"
      },
      "execution_count": null,
      "outputs": []
    },
    {
      "cell_type": "markdown",
      "source": [
        "Si calcola la corrente utilizzando al legge di Ohm generalizzata:"
      ],
      "metadata": {
        "id": "0iNJVaQsDFiM"
      }
    },
    {
      "cell_type": "code",
      "source": [
        "#corrente assorbita dal carico serie:\n",
        "\n",
        "Ic= VG / Zserie\n",
        "\n",
        "print(\"Ic=\", np.round(Ic,2), \"Ampere\")\n",
        "\n"
      ],
      "metadata": {
        "id": "TbIl32MiDG8D"
      },
      "execution_count": null,
      "outputs": []
    },
    {
      "cell_type": "markdown",
      "source": [
        "Calcoliamo la tensione sul condensatore e sulla resistenza:"
      ],
      "metadata": {
        "id": "q92jMXcKDQO7"
      }
    },
    {
      "cell_type": "code",
      "source": [
        "#Tensione sul componenti resistivo:\n",
        "\n",
        "VR = R*Ic\n",
        "\n",
        "print(\"VR=\", np.round(VR,2), \"Volt\")\n",
        "\n"
      ],
      "metadata": {
        "id": "cgjLdGZGDRkV"
      },
      "execution_count": null,
      "outputs": []
    },
    {
      "cell_type": "code",
      "source": [
        "#Tensione sul componenti capacitivo:\n",
        "\n",
        "Vc = Zc*Ic\n",
        "\n",
        "print(\"Vc=\", np.round(Vc,2), \"Volt\")"
      ],
      "metadata": {
        "id": "G6XP8TEoGzt8"
      },
      "execution_count": null,
      "outputs": []
    },
    {
      "cell_type": "markdown",
      "source": [
        "Disegnamo i fasori sul piano complesso:"
      ],
      "metadata": {
        "id": "Pg6df2-9E5pH"
      }
    },
    {
      "cell_type": "code",
      "source": [
        "# Plotting Phasor Diagram\n",
        "\n",
        "figure = plt.subplots(figsize=(11, 6))\n",
        "axe = plt.subplot(121)\n",
        "\n",
        "plt.title('V Phasor Diagram')\n",
        "axe.quiver(0, 0, np.array((np.real(VG))), np.array((np.imag(VG))), units='xy', scale=1, color='blue')\n",
        "axe.quiver(0, 0, np.array((np.real(VR))), np.array((np.imag(VR))), units='xy', scale=1, color='green')\n",
        "axe.quiver(0, 0, np.array((np.real(Vc))), np.array((np.imag(Vc))), units='xy', scale=1, color='orange')\n",
        "\n",
        "\n",
        "plt.grid()\n",
        "axe.set_aspect('equal')\n",
        "axe.spines['left'].set_position('zero')\n",
        "axe.spines['right'].set_color('none')\n",
        "axe.spines['bottom'].set_position('zero')\n",
        "axe.spines['top'].set_color('none')\n",
        "\n",
        "limit = max(abs(VG), abs(VR), abs(Vc))\n",
        "plt.xlim(-limit,limit)\n",
        "plt.ylim(-limit,limit)\n",
        "plt.legend((\"VG\", \"VR\", \"Vc\"))\n",
        "\n",
        "\n"
      ],
      "metadata": {
        "id": "nKzFbFAxJxL7"
      },
      "execution_count": null,
      "outputs": []
    }
  ]
}