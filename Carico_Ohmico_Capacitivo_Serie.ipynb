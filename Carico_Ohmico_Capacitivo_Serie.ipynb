{
  "nbformat": 4,
  "nbformat_minor": 0,
  "metadata": {
    "colab": {
      "provenance": [],
      "toc_visible": true,
      "authorship_tag": "ABX9TyPYXJS418RNoWr12P1W1+xq",
      "include_colab_link": true
    },
    "kernelspec": {
      "name": "python3",
      "display_name": "Python 3"
    },
    "language_info": {
      "name": "python"
    }
  },
  "cells": [
    {
      "cell_type": "markdown",
      "metadata": {
        "id": "view-in-github",
        "colab_type": "text"
      },
      "source": [
        "<a href=\"https://colab.research.google.com/github/davidedifilippo/jupyter_notebooks/blob/main/Carico_Ohmico_Capacitivo_Serie.ipynb\" target=\"_parent\"><img src=\"https://colab.research.google.com/assets/colab-badge.svg\" alt=\"Open In Colab\"/></a>"
      ]
    },
    {
      "cell_type": "markdown",
      "source": [
        "\n",
        "\n"
      ],
      "metadata": {
        "id": "13i1hHHgA6G6"
      }
    },
    {
      "cell_type": "code",
      "execution_count": 15,
      "metadata": {
        "id": "T2xLF3nb-Ngb"
      },
      "outputs": [],
      "source": [
        "import numpy as np\n",
        "\n",
        "#funzione per il disegno dei fasori sul piano complesso\n",
        "\n",
        "import matplotlib.pyplot as plt\n",
        "import numpy as np\n",
        "\n",
        "def complex_plane2(z ,axis_type=0):\n",
        "    \"\"\"Creates complex plane and shows complex numbers as vectors (complexors)\n",
        "    Parameters\n",
        "    ----------\n",
        "    z : array of complex values\n",
        "        array of complex values to be shown\n",
        "    axis_type : int\n",
        "        three types of shapes of complex plane:\n",
        "        0 : symple\n",
        "        1 : with grid\n",
        "        2 : moved axis to middle\n",
        "    -----------------------------------\n",
        "    # Example\n",
        "    z=[20+10j,15,-10-10j,5+15j]\n",
        "    complex_plane2(z,2) \"\"\"\n",
        "\n",
        "    w=max(np.abs(z))\n",
        "    fig, ax = plt.subplots()\n",
        "\n",
        "    if axis_type==0:\n",
        "        plt.axis(\"off\")\n",
        "        plt.text(-0.15*w, 0.8*w, \" I m\", fontsize=14)\n",
        "        plt.text( 0.8*w,- 0.15*w, \"R e\", fontsize=14)\n",
        "    elif axis_type==1:\n",
        "        plt.axis(\"on\")\n",
        "        plt.grid()\n",
        "        plt.text(-0.15*w, 0.8*w, \" Im\", fontsize=14)\n",
        "        plt.text( 0.8*w,- 0.15*w, \"Re\", fontsize=14)\n",
        "    else:\n",
        "        # Move left y-axis and bottom x-axis to centre, passing through (0,0)\n",
        "        ax.spines['left'].set_position('center')\n",
        "        ax.spines['bottom'].set_position('center')\n",
        "\n",
        "        # Eliminate upper and right axes\n",
        "        ax.spines['right'].set_color('none')\n",
        "        ax.spines['top'].set_color('none')\n",
        "\n",
        "        # Show ticks in the left and lower axes only\n",
        "        ax.xaxis.set_ticks_position('bottom')\n",
        "        ax.yaxis.set_ticks_position('left')\n",
        "\n",
        "        ax.set_xlabel('                                                 Re []')\n",
        "        ax.set_ylabel('                                                 Im []')\n",
        "\n",
        "    plt.xlim(-w, w)\n",
        "    plt.ylim(-w, w)\n",
        "    plt.arrow(0, -w, 0, 1.9*w, head_width=w/20, head_length=w/20, fc ='k', ec='k')\n",
        "    plt.arrow(-w, 0, 1.9*w, 0, head_width=w/20, head_length=w/20, fc = 'k', ec='k')\n",
        "\n",
        "    for i in range(len(z)):\n",
        "        fi_a=np.angle(z[i])\n",
        "        x=z[i].real -abs(w)/ 20*np. cos ( fi_a)\n",
        "        y=z[i].imag-abs(w) / 20*np. sin (fi_a)\n",
        "        plt.arrow(0, 0, x, y, head_width=w/20, head_length=w/20, fc = 'b', ec='b')\n",
        "    plt.show()"
      ]
    },
    {
      "cell_type": "markdown",
      "source": [
        "Diamo la possibilità di inserire la frequenza di lavoro, la resistenza e la capacità del condensatore:"
      ],
      "metadata": {
        "id": "mYI3HKhF_udE"
      }
    },
    {
      "cell_type": "code",
      "source": [
        "\n",
        "\n",
        "f = input(\"Inserire la frequenza di lavoro:\")\n",
        "f = float(f)\n",
        "\n",
        "VG_max = input(\"Inserire la tensione di alimentazione:\")\n",
        "VG_max = float(VG_max)\n",
        "\n",
        "VG_ph = input(\"Inserire la fase del generatore:\")\n",
        "VG_ph = float(VG_ph)\n",
        "\n",
        "R = input(\"Inserire la resistenza:\")\n",
        "R = float(R)\n",
        "\n",
        "C = input(\"Inserire la capacità in microfarad:\")\n",
        "C = float(C) * pow(10,-6)\n",
        "\n",
        "VG = VG_max*(np.cos(VG_ph)+np.sin(VG_ph)*2j)\n",
        "\n",
        "print(\"\\nTensione di alimentazione: \", np.round(VG, 2))\n"
      ],
      "metadata": {
        "colab": {
          "base_uri": "https://localhost:8080/"
        },
        "id": "Ya5vcJP3_Mf3",
        "outputId": "551cc319-c428-4f85-822b-31f574cebd9c"
      },
      "execution_count": 27,
      "outputs": [
        {
          "output_type": "stream",
          "name": "stdout",
          "text": [
            "Inserire la frequenza di lavoro:15910\n",
            "Inserire la tensione di alimentazione:10\n",
            "Inserire la fase del generatore:0\n",
            "Inserire la resistenza:100\n",
            "Inserire la capacità in microfarad:0.1\n",
            "\n",
            "Tensione di alimentazione:  (10+0j)\n"
          ]
        }
      ]
    },
    {
      "cell_type": "markdown",
      "source": [
        "Calcoliamo l'impedenza resistiva, la reattanza capacitivi, e l'impedenza capacitiva"
      ],
      "metadata": {
        "id": "rNTyeFKnFFsJ"
      }
    },
    {
      "cell_type": "code",
      "source": [
        "#Impedenza resistiva\n",
        "\n",
        "ZR = R\n",
        "print(\"ZR=\", np.round(ZR,2), \"Ohm\")\n",
        "\n"
      ],
      "metadata": {
        "colab": {
          "base_uri": "https://localhost:8080/"
        },
        "outputId": "6ab6cbe9-b062-4c8e-c5ca-e4640c4d4d76",
        "id": "5IgQ20g2FoFc"
      },
      "execution_count": 28,
      "outputs": [
        {
          "output_type": "stream",
          "name": "stdout",
          "text": [
            "ZR= 100.0 Ohm\n"
          ]
        }
      ]
    },
    {
      "cell_type": "code",
      "source": [
        "# Reattanza capacitiva\n",
        "\n",
        "Xc = 1/(2*np.pi*f*C)\n",
        "\n",
        "print(\"Xc=\", np.round(Xc,2), \"Ohm\")"
      ],
      "metadata": {
        "colab": {
          "base_uri": "https://localhost:8080/"
        },
        "id": "U9iFN4Ef_yHq",
        "outputId": "508e3cc0-aa03-4bee-b195-b16cd670c848"
      },
      "execution_count": 29,
      "outputs": [
        {
          "output_type": "stream",
          "name": "stdout",
          "text": [
            "Xc= 100.03 Ohm\n"
          ]
        }
      ]
    },
    {
      "cell_type": "code",
      "source": [
        "#Impedenza capacitiva\n",
        "\n",
        "Zc = -1j*Xc\n",
        "print(\"Zc=\", np.round(Zc,2), \"Ohm\")\n",
        "\n"
      ],
      "metadata": {
        "colab": {
          "base_uri": "https://localhost:8080/"
        },
        "id": "3MH-q5yZ_2rU",
        "outputId": "685364aa-c8cc-44b0-8b9c-530762d09d75"
      },
      "execution_count": 30,
      "outputs": [
        {
          "output_type": "stream",
          "name": "stdout",
          "text": [
            "Zc= -100.03j Ohm\n"
          ]
        }
      ]
    },
    {
      "cell_type": "markdown",
      "source": [
        "Poi calcoliamo l'impedenza serie vista dal generatore:\n"
      ],
      "metadata": {
        "id": "6uIqNu4kC3nr"
      }
    },
    {
      "cell_type": "code",
      "source": [
        "#Impedenza totale vista dal generatore\n",
        "\n",
        "Zserie = ZR + Zc\n",
        "print(\"Zserie=\", np.round(Zserie,2), \"Ohm\")\n"
      ],
      "metadata": {
        "colab": {
          "base_uri": "https://localhost:8080/"
        },
        "id": "ytUs-xrzC55K",
        "outputId": "4a2943fe-47d9-4217-e44b-1e239d777cbd"
      },
      "execution_count": 32,
      "outputs": [
        {
          "output_type": "stream",
          "name": "stdout",
          "text": [
            "Zserie= (100-100.03j) Ohm\n"
          ]
        }
      ]
    },
    {
      "cell_type": "markdown",
      "source": [
        "Si calcola la corrente utilizzando al legge di Ohm generalizzata:"
      ],
      "metadata": {
        "id": "0iNJVaQsDFiM"
      }
    },
    {
      "cell_type": "code",
      "source": [
        "#corrente assorbita dal carico serie:\n",
        "\n",
        "Ic= VG / Zserie\n",
        "\n",
        "print(\"Ic=\", np.round(Ic,2), \"Ampere\")\n",
        "\n"
      ],
      "metadata": {
        "colab": {
          "base_uri": "https://localhost:8080/"
        },
        "id": "TbIl32MiDG8D",
        "outputId": "79c8f42c-e35c-47e9-dd31-ab2cc106c97a"
      },
      "execution_count": 34,
      "outputs": [
        {
          "output_type": "stream",
          "name": "stdout",
          "text": [
            "Ic= (0.05+0.05j) Ampere\n"
          ]
        }
      ]
    },
    {
      "cell_type": "markdown",
      "source": [
        "Calcoliamo la tensione sul condensatore e sulla resistenza:"
      ],
      "metadata": {
        "id": "q92jMXcKDQO7"
      }
    },
    {
      "cell_type": "code",
      "source": [
        "#Tensione sul componenti resistivo:\n",
        "\n",
        "VR = R*Ic\n",
        "\n",
        "print(\"VR=\", np.round(VR,2), \"Volt\")\n",
        "\n"
      ],
      "metadata": {
        "colab": {
          "base_uri": "https://localhost:8080/"
        },
        "id": "cgjLdGZGDRkV",
        "outputId": "6cceadac-42ca-4ea8-beaf-42336353b5f3"
      },
      "execution_count": 39,
      "outputs": [
        {
          "output_type": "stream",
          "name": "stdout",
          "text": [
            "VR= (5+5j) Volt\n"
          ]
        }
      ]
    },
    {
      "cell_type": "code",
      "source": [
        "#Tensione sul componenti capacitivo:\n",
        "\n",
        "Vc = Zc*Ic\n",
        "\n",
        "print(\"Vc=\", np.round(Vc,2), \"Volt\")"
      ],
      "metadata": {
        "colab": {
          "base_uri": "https://localhost:8080/"
        },
        "id": "G6XP8TEoGzt8",
        "outputId": "6e9f00d9-742d-4059-ffcf-981a98df0e1b"
      },
      "execution_count": 41,
      "outputs": [
        {
          "output_type": "stream",
          "name": "stdout",
          "text": [
            "Vc= (5-5j) Volt\n"
          ]
        }
      ]
    },
    {
      "cell_type": "markdown",
      "source": [
        "Disegnamo i fasori sul piano complesso:"
      ],
      "metadata": {
        "id": "Pg6df2-9E5pH"
      }
    },
    {
      "cell_type": "code",
      "source": [
        "complex_plane2([VG, VR, Vc, Ic])"
      ],
      "metadata": {
        "colab": {
          "base_uri": "https://localhost:8080/",
          "height": 248
        },
        "id": "QE7RpsPkE9gX",
        "outputId": "f6373aef-fdcc-478d-aa35-71c4a7f30248"
      },
      "execution_count": 42,
      "outputs": [
        {
          "output_type": "display_data",
          "data": {
            "text/plain": [
              "<Figure size 432x288 with 1 Axes>"
            ],
            "image/png": "[encoded data removed]"
          },
          "metadata": {
            "needs_background": "light"
          }
        }
      ]
    }
  ]
}