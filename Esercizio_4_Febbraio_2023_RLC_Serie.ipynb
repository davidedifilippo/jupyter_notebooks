{
  "nbformat": 4,
  "nbformat_minor": 0,
  "metadata": {
    "colab": {
      "provenance": [],
      "authorship_tag": "ABX9TyOIocNvLAXjWkkkLD3wsmkE",
      "include_colab_link": true
    },
    "kernelspec": {
      "name": "python3",
      "display_name": "Python 3"
    },
    "language_info": {
      "name": "python"
    }
  },
  "cells": [
    {
      "cell_type": "markdown",
      "metadata": {
        "id": "view-in-github",
        "colab_type": "text"
      },
      "source": [
        "<a href=\"https://colab.research.google.com/github/davidedifilippo/jupyter_notebooks/blob/main/Esercizio_4_Febbraio_2023_RLC_Serie.ipynb\" target=\"_parent\"><img src=\"https://colab.research.google.com/assets/colab-badge.svg\" alt=\"Open In Colab\"/></a>"
      ]
    },
    {
      "cell_type": "code",
      "execution_count": null,
      "metadata": {
        "id": "asI3F8dYJA3f"
      },
      "outputs": [],
      "source": [
        "#libreria per le elaborazioni numeriche\n",
        "\n",
        "import numpy as np\n",
        "\n",
        "#libreria per il disegno dei fasori sul piano complesso\n",
        "\n",
        "import matplotlib.pyplot as plt"
      ]
    },
    {
      "cell_type": "markdown",
      "source": [
        "Alimentazione sinusoidale:\n",
        "\n",
        "* frequenza = 1000 Hz\n",
        "* I_max = 2A\n",
        "* I_phase = 0\n",
        "\n",
        "Carico serie:\n",
        "\n",
        "* R= 100 Ohm\n",
        "* XC = 73.2 Ohm\n",
        "* XL = 100 Ohm "
      ],
      "metadata": {
        "id": "nTuSB_ADJYp-"
      }
    },
    {
      "cell_type": "code",
      "source": [
        "f = input(\"Inserire la frequenza di lavoro:\")\n",
        "f = float(f)\n",
        "\n",
        "I_max = input(\"Inserire la corrente di alimentazione:\")\n",
        "I_max = float(I_max)\n",
        "\n",
        "I_ph = input(\"Inserire la fase della corrente in gradi:\")\n",
        "I_ph = float(I_ph)\n",
        "\n",
        "R = input(\"Inserire il valore di resistenza:\")\n",
        "R = float(R)\n",
        "\n",
        "XC = input(\"Inserire la reattanza del condensatore in Ohm:\")\n",
        "XC = float(XC) \n",
        "\n",
        "XL = input(\"Inserire la reattanza della bobina in Ohm:\")\n",
        "XL = float(XL) \n",
        "\n",
        "\n",
        "I_ph = (I_ph/180)*np.pi\n",
        "\n",
        "I = I_max*(np.cos(I_ph)+np.sin(I_ph)*1j)\n",
        "\n",
        "print(\"\\nTensione di alimentazione: \", np.round(I, 2))\n",
        "\n",
        "# Coordinate polari (M, phi)\n",
        "\n",
        "print (\"modulo I:\",  abs(I))\n",
        "print (\"Fase di I:\",  (np.angle(I)/np.pi) * 180)"
      ],
      "metadata": {
        "id": "Y_5p0DB4JaC9"
      },
      "execution_count": null,
      "outputs": []
    },
    {
      "cell_type": "code",
      "source": [
        "#impedenza resistiva\n",
        "ZR = R\n",
        "print(\"ZR=\", np.round(ZR,2), \"Ohm\")\n",
        "\n",
        "#Impedenza induttiva:\n",
        "ZL = 1j*XL\n",
        "print(\"ZL=\", np.round(ZL,2), \"Ohm\")\n",
        "\n",
        "#Impedenza induttiva:\n",
        "ZC = -1j*XC\n",
        "print(\"ZC=\", np.round(ZC,2), \"Ohm\")\n",
        "\n",
        "#Impedenza totale vista dal generatore\n",
        "\n",
        "Zserie = ZR + ZL +ZC\n",
        "print(\"Zserie=\", np.round(Zserie,2), \"Ohm\")"
      ],
      "metadata": {
        "id": "hrnJ2DUrJiyR"
      },
      "execution_count": null,
      "outputs": []
    },
    {
      "cell_type": "code",
      "source": [
        "#corrente assorbita dal carico serie:\n",
        "\n",
        "Vg =  Zserie *I\n",
        "\n",
        "print(\"Vg=\", np.round(Vg,2), \"Volt\")\n",
        "\n"
      ],
      "metadata": {
        "id": "NFaq-h0pJs_j"
      },
      "execution_count": null,
      "outputs": []
    },
    {
      "cell_type": "code",
      "source": [
        "# Coordinate polari (M, phi)\n",
        "\n",
        "print (\"modulo Vg:\",  abs(Vg))\n",
        "print (\"Fase di Vg:\",  (np.angle(Vg)/np.pi) * 180)"
      ],
      "metadata": {
        "id": "YUw3aHMjNaTp"
      },
      "execution_count": null,
      "outputs": []
    },
    {
      "cell_type": "code",
      "source": [
        "t = np.linspace(0, 1/f, num=1000)\n",
        "\n",
        "vg =  abs(Vg) * np.sin(2*np.pi * f * t +np.angle(Vg) )\n",
        "i =  abs(I) * np.sin(2*np.pi * f * t +np.angle(I) )\n",
        "\n",
        "figure = plt.subplots(figsize=(15, 6))\n",
        "axe = plt.subplot(121)\n",
        "\n",
        "plt.title('Signals')\n",
        "plt.plot(t, vg, 'b')\n",
        "\n",
        "plt.xlabel('Time [s]')\n",
        "plt.ylabel('Voltage [V]')\n",
        "plt.grid()\n",
        "\n",
        "\n",
        "axe = plt.subplot(122)\n",
        "\n",
        "plt.title('Signals')\n",
        "plt.plot(t, i, 'orange')\n",
        "\n",
        "plt.xlabel('Time [s]')\n",
        "plt.ylabel('Corrente [I]')\n",
        "plt.grid()\n",
        "plt.show()\n"
      ],
      "metadata": {
        "id": "Me_LXnDLPDtg"
      },
      "execution_count": null,
      "outputs": []
    },
    {
      "cell_type": "markdown",
      "source": [
        "Disegnamo i fasori sul piano complesso:"
      ],
      "metadata": {
        "id": "z6uU_3X7J37a"
      }
    },
    {
      "cell_type": "code",
      "source": [
        "# Plotting Phasor Diagram\n",
        "\n",
        "figure = plt.subplots(figsize=(11, 6))\n",
        "axe = plt.subplot(121)\n",
        "\n",
        "plt.title('Fasore tensione')\n",
        "axe.quiver(0, 0, np.array((np.real(Vg))), np.array((np.imag(Vg))), units='xy', scale=1, color='blue')\n",
        "\n",
        "\n",
        "plt.grid()\n",
        "axe.set_aspect('equal')\n",
        "axe.spines['left'].set_position('zero')\n",
        "axe.spines['right'].set_color('none')\n",
        "axe.spines['bottom'].set_position('zero')\n",
        "axe.spines['top'].set_color('none')\n",
        "\n",
        "limit = abs(Vg)\n",
        "plt.xlim(-limit,limit)\n",
        "plt.ylim(-limit,limit)\n",
        "plt.legend(\"Vg\")\n",
        "\n",
        "axe = plt.subplot(122)\n",
        "\n",
        "\n",
        "plt.title('Fasore corrente')\n",
        "axe.quiver(0, 0, np.array((np.real(I))), np.array((np.imag(I))), units='xy', scale=1, color='orange')\n",
        "\n",
        "plt.grid()\n",
        "axe.set_aspect('equal')\n",
        "axe.spines['left'].set_position('zero')\n",
        "axe.spines['right'].set_color('none')\n",
        "axe.spines['bottom'].set_position('zero')\n",
        "axe.spines['top'].set_color('none')\n",
        "\n",
        "limit = abs(I)\n",
        "plt.xlim(-limit,limit)\n",
        "plt.ylim(-limit,limit)\n",
        "plt.legend(\"I\")"
      ],
      "metadata": {
        "id": "FqNRr9DeMakd"
      },
      "execution_count": null,
      "outputs": []
    }
  ]
}