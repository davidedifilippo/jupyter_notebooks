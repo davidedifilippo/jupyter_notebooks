{
  "nbformat": 4,
  "nbformat_minor": 0,
  "metadata": {
    "colab": {
      "provenance": [],
      "authorship_tag": "ABX9TyPnOn2+z2r2U4SIqearvJAo",
      "include_colab_link": true
    },
    "kernelspec": {
      "name": "python3",
      "display_name": "Python 3"
    },
    "language_info": {
      "name": "python"
    }
  },
  "cells": [
    {
      "cell_type": "markdown",
      "metadata": {
        "id": "view-in-github",
        "colab_type": "text"
      },
      "source": [
        "<a href=\"https://colab.research.google.com/github/davidedifilippo/jupyter_notebooks/blob/main/Modulazione_FM.ipynb\" target=\"_parent\"><img src=\"https://colab.research.google.com/assets/colab-badge.svg\" alt=\"Open In Colab\"/></a>"
      ]
    },
    {
      "cell_type": "code",
      "source": [
        "import numpy as np\n",
        "import matplotlib.pyplot as plt\n",
        "\n",
        "\n",
        "#Portante \n",
        "\n",
        "Ap = 10\n",
        "fp = 10\n",
        "\n",
        "Tp = 1/fp\n",
        "\n",
        "t = np.linspace(0, 2, num=10000000)\n",
        "\n",
        "sp = Ap * np.sin(2*np.pi * fp * t)\n",
        "\n",
        "plt.title('Signal')\n",
        "plt.plot(t, sp, 'b')\n",
        "plt.xlabel('Time [s]')\n",
        "plt.ylabel('Voltage [V]')\n",
        "plt.grid()\n",
        "plt.show()"
      ],
      "metadata": {
        "id": "_mmvQlw416dM"
      },
      "execution_count": null,
      "outputs": []
    },
    {
      "cell_type": "code",
      "source": [
        "#Modulante\n",
        "\n",
        "Am = 4\n",
        "fm = 2\n",
        "\n",
        "sm = Am * np.cos(2*np.pi * fm * t)\n",
        "\n",
        "plt.title('Segnale modulante')\n",
        "plt.plot(t, sm, 'b')\n",
        "plt.xlabel('Time [s]')\n",
        "plt.ylabel('Voltage [V]')\n",
        "plt.grid()\n",
        "plt.show()"
      ],
      "metadata": {
        "id": "El1jo85geCrO"
      },
      "execution_count": null,
      "outputs": []
    },
    {
      "cell_type": "code",
      "source": [
        "#Modulato\n",
        "\n",
        "k = 1\n",
        "\n",
        "\n",
        "mf = k *Am /fm\n",
        "print(mf)\n",
        "\n",
        "smodulato = Ap *np.sin(2*np.pi * fp * t + mf *np.sin(2*np.pi * fm * t))\n",
        "                                              \n",
        "\n",
        "#Andamento nel tempo\n",
        "\n",
        "plt.title('Modulato FM')\n",
        "plt.plot(t, smodulato, 'b')\n",
        "plt.xlabel('Time [s]')\n",
        "plt.ylabel('Voltage [V]')\n",
        "plt.grid()\n",
        "plt.show()"
      ],
      "metadata": {
        "id": "Nv1yO8dvfQ6A"
      },
      "execution_count": null,
      "outputs": []
    },
    {
      "cell_type": "code",
      "source": [
        "from scipy.special import jv\n",
        "\n",
        "x = np.linspace(0, 20, 10000)\n",
        "\n",
        "for i in range(0, 10):\n",
        "    J = jv(i, x)\n",
        "    plt.plot(x, J, label=r'$J_' + str(i) + '(x)$')\n",
        "\n",
        "plt.legend()\n",
        "plt.title('Bessel function', fontweight='bold', fontsize=10)\n",
        "plt.xlabel('mf', fontweight='bold', fontsize=10)\n",
        "plt.ylabel('$J_i(x)$', fontweight='bold', fontsize=16)\n",
        "plt.grid()"
      ],
      "metadata": {
        "id": "Ije9YxFk4i-E"
      },
      "execution_count": null,
      "outputs": []
    },
    {
      "cell_type": "code",
      "source": [
        "for i in range(int(mf+3)):\n",
        "  J = jv(i, mf)\n",
        "  print(\"frequenza= \", fp+i*fm,  \"Ap*j\" + str(i) + \"(mf)$=\", J)"
      ],
      "metadata": {
        "id": "5ZtSdE_dHPJX"
      },
      "execution_count": null,
      "outputs": []
    },
    {
      "cell_type": "code",
      "source": [
        "\n",
        "smodulato = Ap *jv(0, mf)*np.sin(2*np.pi * fp * t ) + Ap*jv(1, mf) *np.sin(2*np.pi * (fp+fm) * t ) - Ap*jv(1, mf)*np.sin(2*np.pi * (fp-fm) * t )+Ap*jv(2, mf) *np.sin(2*np.pi * (fp+2*fm) * t ) + Ap*jv(2, mf)*np.sin(2*np.pi * (fp-2*fm) * t )+ Ap*jv(3, mf) *np.sin(2*np.pi * (fp+3*fm) * t ) - Ap*jv(3, mf)*np.sin(2*np.pi * (fp-3*fm) * t )\n",
        "                                              \n",
        "\n",
        "#Andamento nel tempo\n",
        "\n",
        "plt.title('Modulato FM')\n",
        "plt.plot(t, smodulato, 'b')\n",
        "plt.xlabel('Time [s]')\n",
        "plt.ylabel('Voltage [V]')\n",
        "plt.grid()\n",
        "plt.show()"
      ],
      "metadata": {
        "id": "Cy4mWLx38G49"
      },
      "execution_count": null,
      "outputs": []
    }
  ]
}