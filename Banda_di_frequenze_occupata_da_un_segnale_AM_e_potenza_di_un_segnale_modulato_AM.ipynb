{
  "nbformat": 4,
  "nbformat_minor": 0,
  "metadata": {
    "colab": {
      "provenance": [],
      "authorship_tag": "ABX9TyOryQ1A42XV8jzQUC84fdSW",
      "include_colab_link": true
    },
    "kernelspec": {
      "name": "python3",
      "display_name": "Python 3"
    },
    "language_info": {
      "name": "python"
    }
  },
  "cells": [
    {
      "cell_type": "markdown",
      "metadata": {
        "id": "view-in-github",
        "colab_type": "text"
      },
      "source": [
        "<a href=\"https://colab.research.google.com/github/davidedifilippo/jupyter_notebooks/blob/main/Banda_di_frequenze_occupata_da_un_segnale_AM_e_potenza_di_un_segnale_modulato_AM.ipynb\" target=\"_parent\"><img src=\"https://colab.research.google.com/assets/colab-badge.svg\" alt=\"Open In Colab\"/></a>"
      ]
    },
    {
      "cell_type": "markdown",
      "source": [
        "**Potenza di un segnale sinusoidale**\n",
        "**testo in grassetto**\n"
      ],
      "metadata": {
        "id": "wnm5yvqvDSKj"
      }
    },
    {
      "cell_type": "code",
      "execution_count": null,
      "metadata": {
        "id": "njwD54AKDLoS"
      },
      "outputs": [],
      "source": [
        "import numpy as np\n",
        "import matplotlib.pyplot as plt\n",
        "\n",
        "#Ampiezza massima segnale sinusoidale semplice\n",
        "\n",
        "V_max = 10 #Volt\n",
        "\n",
        "#Frequenza del segnale\n",
        "\n",
        "f = 10 #Hertz\n",
        "\n",
        "#Periodo del segnale\n",
        "\n",
        "T = 1/f #secondi\n",
        "\n",
        "print(\"A=\", V_max, \"Volt\", \"f=\", f, \"Hz\", \"T=\", T, \"s\")"
      ]
    },
    {
      "cell_type": "code",
      "source": [
        "# calcoliamo i valori del segnale su un milione di punti\n",
        "\n",
        "t = np.linspace(0, 2*T, num=1000000) \n",
        "\n",
        "# sp è un vettore di un milione di valori su 2 periodi\n",
        "\n",
        "\n",
        "sp = V_max * np.cos(2*np.pi * f * t) \n",
        "\n",
        "# Grafico nel tempo\n",
        "\n",
        "plt.title('Segnale')\n",
        "plt.plot(t, sp, 'b')\n",
        "plt.xlabel('Tempo [s]')\n",
        "plt.ylabel('Tensione [V]')\n",
        "plt.grid()\n",
        "plt.show()"
      ],
      "metadata": {
        "id": "DH7A9QP8Dt9D"
      },
      "execution_count": null,
      "outputs": []
    },
    {
      "cell_type": "markdown",
      "source": [
        "# Per calcolare la potenza del segnale sinusoidale si considera **la potenza attiva dissipata su un resistere da 1 Ohm**, in modo da poter confrontare i diversi livelli di potenza, utilizzando un riferimento comune a tutti i segnali "
      ],
      "metadata": {
        "id": "1_R4-65LFX-t"
      }
    },
    {
      "cell_type": "code",
      "source": [
        "V_efficace = np.power(V_max, 2)/np.sqrt(2)\n",
        "\n",
        "print(\"Veff = \", V_efficace, \"Watt\") "
      ],
      "metadata": {
        "id": "cZd5STniFXm1"
      },
      "execution_count": null,
      "outputs": []
    },
    {
      "cell_type": "markdown",
      "source": [
        "**Segnale modulato AM con modulante sinusoidale**"
      ],
      "metadata": {
        "id": "qPPdivcaHDbj"
      }
    },
    {
      "cell_type": "code",
      "source": [
        "#Portante \n",
        "\n",
        "Ap = 10\n",
        "fp = 10\n",
        "\n",
        "Tp = 1/fp\n",
        "\n",
        "t = np.linspace(0, 2, num=1000000)\n",
        "\n",
        "sp = Ap * np.cos(2*np.pi * fp * t)\n",
        "\n",
        "plt.title('Signal')\n",
        "plt.plot(t, sp, 'b')\n",
        "plt.xlabel('Time [s]')\n",
        "plt.ylabel('Voltage [V]')\n",
        "plt.grid()\n",
        "plt.show()\n",
        "\n"
      ],
      "metadata": {
        "id": "_Ar-n5LDHDKF"
      },
      "execution_count": null,
      "outputs": []
    },
    {
      "cell_type": "code",
      "source": [
        "\n",
        "\n",
        "#Modulante\n",
        "\n",
        "Am = 6\n",
        "fm = 1\n",
        "\n",
        "sm = Am * np.cos(2*np.pi * fm * t)\n",
        "\n",
        "plt.title('Signal')\n",
        "plt.plot(t, sm, 'b')\n",
        "plt.xlabel('Time [s]')\n",
        "plt.ylabel('Voltage [V]')\n",
        "plt.grid()\n",
        "plt.show()\n",
        "\n"
      ],
      "metadata": {
        "id": "ZddhAS0jG9Ib"
      },
      "execution_count": null,
      "outputs": []
    },
    {
      "cell_type": "code",
      "source": [
        "#Modulato\n",
        "\n",
        "k=1\n",
        "\n",
        "smodulato = (Ap+k*sm)* np.cos(2*np.pi * fp * t)\n",
        "\n",
        "#Andamento nel tempo\n",
        "\n",
        "plt.title('Signal')\n",
        "plt.plot(t, smodulato, 'b')\n",
        "plt.xlabel('Time [s]')\n",
        "plt.ylabel('Voltage [V]')\n",
        "plt.grid()\n",
        "plt.show()"
      ],
      "metadata": {
        "id": "R1nzw_LQG7CD"
      },
      "execution_count": null,
      "outputs": []
    },
    {
      "cell_type": "code",
      "source": [
        "# indice di modulazione \n",
        "\n",
        "m = k *Am/Ap\n",
        "\n",
        "print(\"indice di modulazione\", m)\n",
        "\n",
        "# indice di modulazione percentuale\n",
        "\n",
        "m_perc = m*100\n",
        "\n",
        "print(\"indice di modulazione percentuale\", m_perc, \"%\")\n"
      ],
      "metadata": {
        "id": "VDCGAx67OKVt"
      },
      "execution_count": null,
      "outputs": []
    },
    {
      "cell_type": "markdown",
      "source": [
        "Nella modulazione sinusoidale il segnale modulato si scompone per Fourier nella somma di tre segnali sinusoidali puri: \n",
        "\n",
        "*   una componente laterale inferiore a frequenza fp - fm di ampiezza Am/2\n",
        "*   la portante a frequenza fp di ampiezza Ap\n",
        "*   una componente laterale superiore a frequenza fp + fm di ampiezza Am/2 \n",
        "\n",
        "\n"
      ],
      "metadata": {
        "id": "5WH0W_AtIEK-"
      }
    },
    {
      "cell_type": "code",
      "source": [
        "smodulato = Ap * np.cos(2*np.pi * fp * t) + (Am/2) * np.cos(2*np.pi * (fp+fm) * t) + (Am/2) * np.cos(2*np.pi * (fp-fm) * t)"
      ],
      "metadata": {
        "id": "Xx_uumugIViz"
      },
      "execution_count": null,
      "outputs": []
    },
    {
      "cell_type": "markdown",
      "source": [
        "Infatti se tracciamo il grafico nel tempo della somma delle tre componenti elementari troviamo il modulato AM"
      ],
      "metadata": {
        "id": "sysU6GzEJVwn"
      }
    },
    {
      "cell_type": "code",
      "source": [
        "plt.title('Signal')\n",
        "plt.plot(t, smodulato, 'b')\n",
        "plt.xlabel('Time [s]')\n",
        "plt.ylabel('Voltage [V]')\n",
        "plt.grid()\n",
        "plt.show()"
      ],
      "metadata": {
        "id": "3cZsBBlSJVZ3"
      },
      "execution_count": null,
      "outputs": []
    },
    {
      "cell_type": "markdown",
      "source": [
        "**Potenza del segnale modulato AM**"
      ],
      "metadata": {
        "id": "ceqPGLjBLwyQ"
      }
    },
    {
      "cell_type": "code",
      "source": [
        "P_portante =  np.power(Ap, 2)/np.sqrt(2)\n",
        "\n",
        "print(\"Pp = \", P_portante, \"Watt\") \n",
        "\n",
        "P_componente_laterale_inferiore = np.power(Am/2, 2)/np.sqrt(2)\n",
        "\n",
        "print(\"Pli = \", P_componente_laterale_inferiore, \"Watt\") \n",
        "\n",
        "P_componente_laterale_superiore = np.power(Am/2, 2)/np.sqrt(2)\n",
        "\n",
        "print(\"Pls = \", P_componente_laterale_superiore, \"Watt\") \n",
        "\n",
        "P_AM = P_portante+ P_componente_laterale_inferiore + P_componente_laterale_superiore\n",
        "\n",
        "print(\"P_AM = \", P_AM, \"Watt\") "
      ],
      "metadata": {
        "id": "HasFe-dqLfjX"
      },
      "execution_count": null,
      "outputs": []
    },
    {
      "cell_type": "markdown",
      "source": [
        "Banda di frequenze occupata dal segnale modulato Am:\n",
        "\n",
        "B= (fp+fm) - (fp-fm)"
      ],
      "metadata": {
        "id": "icgIDvoGJng_"
      }
    },
    {
      "cell_type": "code",
      "source": [
        "B = 2*fm \n",
        "\n",
        "print(\"Occupazione di frequenza=\", B, \"Hz\")\n",
        "\n",
        "fmax= fp + fm\n",
        "\n",
        "fmin = fp - fm\n",
        "\n",
        "print(\"frequnze occupate: \",fmin, \"Hz\",  \"a\",fmax,   \"Hz\")\n"
      ],
      "metadata": {
        "id": "B1-4b_KaJmbz"
      },
      "execution_count": null,
      "outputs": []
    },
    {
      "cell_type": "markdown",
      "source": [
        "Si dimostra che anche con un indice di modulazione del 100% solo il 50% della potenza irradiata è sulle righe laterali "
      ],
      "metadata": {
        "id": "RT0BlbvpPItz"
      }
    }
  ]
}